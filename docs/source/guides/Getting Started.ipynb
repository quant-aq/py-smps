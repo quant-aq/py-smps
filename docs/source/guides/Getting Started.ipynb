{
 "cells": [
  {
   "attachments": {},
   "cell_type": "markdown",
   "metadata": {},
   "source": [
    "# An introduction to py-smps\n",
    "\n",
    "`py-smps` is a general-purpose library designed to make analyzing size-resolved aerosol data as easy and repeatable as possible. It is not meant to cover all possible instruments (by default, at least) or use cases (at least, not yet!). This guide should give you an overview of the capabilities of the software, but will not be completely comprehensive. Please read through the API documentation if you have any questions or post to the [discusssions](https://github.com/quant-aq/py-smps/discussions) section of the GitHub repository."
   ]
  },
  {
   "attachments": {},
   "cell_type": "markdown",
   "metadata": {},
   "source": [
    "## Working with data\n",
    "\n",
    "The data format for each make and model of particle-sizer instrument is going to be different depending on the manufacturer's specifications and how you have gone about logging the data. This library includes a few helper functions for common instruments (e.g., TSI SMPS), but there are some general requirements that all instruments and datasets need to follow in order to work with this library:\n",
    "\n",
    "1. The raw data must be a `pandas` DataFrame (`pd.DataFrame`). If you're unfamiliar with the `pandas`, it may be a good idea to read one of the many great online tutorials or read through the docs [here](https://pandas.pydata.org/docs/reference/api/pandas.DataFrame.html).\n",
    "2. The index of the DataFrame should be a time series (though, it is not explicitly required)\n",
    "3. There must be a unique column (and column name) for each particle size bin\n",
    "\n",
    "So long as the above requirements are met, you should be able to use this library to analyze your data."
   ]
  },
  {
   "cell_type": "code",
   "execution_count": 1,
   "metadata": {},
   "outputs": [],
   "source": [
    "import smps\n",
    "import warnings\n",
    "import pandas as pd\n",
    "import seaborn as sns\n",
    "import matplotlib.pyplot as plt\n",
    "import matplotlib as mpl\n",
    "\n",
    "# Filter out the warnings for this guide\n",
    "warnings.simplefilter(action='ignore')\n",
    "\n",
    "sns.set('notebook', style='ticks', font_scale=1.25, palette='colorblind')\n",
    "\n",
    "# Set the default smps visuals\n",
    "smps.set()"
   ]
  },
  {
   "attachments": {},
   "cell_type": "markdown",
   "metadata": {},
   "source": [
    "### Example datasets\n",
    "\n",
    "The library includes a few example datasets to help you get up and running with examples and understand the desired structure of the data. To import a sample SMPS dataset from Boston, you can use the `load_sample` helper function:"
   ]
  },
  {
   "cell_type": "code",
   "execution_count": 2,
   "metadata": {},
   "outputs": [],
   "source": [
    "bos = smps.io.load_sample('boston')"
   ]
  },
  {
   "attachments": {},
   "cell_type": "markdown",
   "metadata": {},
   "source": [
    "### Working with SMPS data from AIM\n",
    "\n",
    "TSI's AIM software allows you to export data to analyze offline. There is a loader function (`smps.io.load_file`) to help you load and work with data specifically from AIM; however, each version of AIM is slightly different and isn't always labeled with the correct version making it difficult to maintain a general-purpose loader for these files. If your attempt to load data from AIM using the helper function is unsuccessful, please open an issue on the GitHub repository so that we can add support for your version of AIM or otherwise help you navigate the process."
   ]
  },
  {
   "attachments": {},
   "cell_type": "markdown",
   "metadata": {},
   "source": [
    "### Working with data via a csv file\n",
    "\n",
    "If your data is in csv format, you can use native `pandas` to load your data and ensure it is in the correct format. Below, we use a sample file available in the GitHub repository from a QuantAQ MODULAIR-PM device to demonstrate how you can load the data, convert the timestamp column to a python datetime object, and get it ready for analysis."
   ]
  },
  {
   "cell_type": "code",
   "execution_count": 3,
   "metadata": {},
   "outputs": [
    {
     "name": "stdout",
     "output_type": "stream",
     "text": [
      "<class 'pandas.core.frame.DataFrame'>\n",
      "DatetimeIndex: 1009 entries, 2022-02-15 21:27:30+00:00 to 2022-02-15 04:39:32+00:00\n",
      "Data columns (total 54 columns):\n",
      " #   Column           Non-Null Count  Dtype  \n",
      "---  ------           --------------  -----  \n",
      " 0   id               1009 non-null   int64  \n",
      " 1   timestamp_local  1009 non-null   object \n",
      " 2   sn               1009 non-null   object \n",
      " 3   sample_rh        1009 non-null   float64\n",
      " 4   sample_temp      1009 non-null   float64\n",
      " 5   sample_pres      1009 non-null   int64  \n",
      " 6   bin0             1009 non-null   float64\n",
      " 7   bin1             1009 non-null   float64\n",
      " 8   bin2             1009 non-null   float64\n",
      " 9   bin3             1009 non-null   float64\n",
      " 10  bin4             1009 non-null   float64\n",
      " 11  bin5             1009 non-null   float64\n",
      " 12  bin6             1009 non-null   float64\n",
      " 13  bin7             1009 non-null   float64\n",
      " 14  bin8             1009 non-null   float64\n",
      " 15  bin9             1009 non-null   float64\n",
      " 16  bin10            1009 non-null   float64\n",
      " 17  bin11            1009 non-null   float64\n",
      " 18  bin12            1009 non-null   float64\n",
      " 19  bin13            1009 non-null   float64\n",
      " 20  bin14            1009 non-null   float64\n",
      " 21  bin15            1009 non-null   float64\n",
      " 22  bin16            1009 non-null   float64\n",
      " 23  bin17            1009 non-null   float64\n",
      " 24  bin18            1009 non-null   float64\n",
      " 25  bin19            1009 non-null   float64\n",
      " 26  bin20            1009 non-null   float64\n",
      " 27  bin21            1009 non-null   int64  \n",
      " 28  bin22            1009 non-null   int64  \n",
      " 29  bin23            1009 non-null   float64\n",
      " 30  opcn3_temp       1009 non-null   int64  \n",
      " 31  opcn3_rh         1009 non-null   int64  \n",
      " 32  opcn3_pm1        1009 non-null   float64\n",
      " 33  opcn3_pm25       1009 non-null   float64\n",
      " 34  opcn3_pm10       1009 non-null   float64\n",
      " 35  pm1_env          1009 non-null   float64\n",
      " 36  pm25_env         1009 non-null   float64\n",
      " 37  pm10_env         1009 non-null   float64\n",
      " 38  neph_bin0        1009 non-null   float64\n",
      " 39  neph_bin1        1009 non-null   float64\n",
      " 40  neph_bin2        1009 non-null   float64\n",
      " 41  neph_bin3        1009 non-null   float64\n",
      " 42  neph_bin4        1009 non-null   int64  \n",
      " 43  neph_bin5        1009 non-null   int64  \n",
      " 44  flag             1009 non-null   int64  \n",
      " 45  lat              1009 non-null   float64\n",
      " 46  lon              1009 non-null   float64\n",
      " 47  device_state     1009 non-null   object \n",
      " 48  pm10             1009 non-null   float64\n",
      " 49  pm1_model_id     1009 non-null   int64  \n",
      " 50  pm25_model_id    1009 non-null   int64  \n",
      " 51  pm25             1009 non-null   float64\n",
      " 52  pm10_model_id    1009 non-null   int64  \n",
      " 53  pm1              1009 non-null   float64\n",
      "dtypes: float64(39), int64(12), object(3)\n",
      "memory usage: 433.6+ KB\n"
     ]
    }
   ],
   "source": [
    "# Load the file into a pandas dataframe\n",
    "df = pd.read_csv(\n",
    "    \"https://raw.githubusercontent.com/quant-aq/py-smps/master/tests/datafiles/MOD-PM-SAMPLE.csv\",\n",
    "    parse_dates=['timestamp']\n",
    ").set_index('timestamp')\n",
    "\n",
    "df.info()"
   ]
  },
  {
   "attachments": {},
   "cell_type": "markdown",
   "metadata": {},
   "source": [
    "The data above, from a QuantAQ MODULAIR-PM, contains a total of 53 columns in addition to the timestamp column that has been set as the index. The 'binned' data corresponding to the OPCs bins are labeled with the format \"bin<x>\" where \"x\" is an integer between 0 and 23 (24 total size bins). Each bin contains the particle concentration (pp/cc) at various size ranges and is the raw data we need to perform the analysis - the other columns are considered meta data and are not explicitly needed. There is no need to remove the columns prior to continuing on.\n",
    "\n",
    "Now that we have the data in the proper format, we can go ahead and discuss the `GenericParticleSizer` object."
   ]
  },
  {
   "attachments": {},
   "cell_type": "markdown",
   "metadata": {},
   "source": [
    "## The `GenericParticleSizer` object\n",
    "\n",
    "The heart of the `py-smps` library is the `GenericParticleSizer` obejct. The `GenericParticleSizer` object is the base class for all available particle sizing instruments and contains all of the basic functionality and methods used for making calculations and/or figures. A `GenericParticleSizer` assumes the following about any instrument:\n",
    "\n",
    "  1. Raw data can be represented as a dataframe where there is one column for each particle size bin\n",
    "  2. The instrument sizes particles into 'bins' which have a left boundary, midpoint, and right boundary\n",
    "\n",
    "That's it. Those are the only two things that must be true for the instrument and instrument data to work with this library.\n"
   ]
  },
  {
   "attachments": {},
   "cell_type": "markdown",
   "metadata": {},
   "source": [
    "<div class=\"alert alert-info\">\n",
    "\n",
    "Note\n",
    "\n",
    "If you are creating a custom `GenericParticleSizer` object, there is a helper function for creating the 3xn array needed to properly define size bins (`smps.utils.make_bins`).\n",
    "\n",
    "</div>"
   ]
  },
  {
   "attachments": {},
   "cell_type": "markdown",
   "metadata": {},
   "source": [
    "In addition to the `GenericParticleSizer` object, which is the parent class, there are a number of child classes for individual instruments that make working with them easier. These include:\n",
    "\n",
    "  * `SMPS`\n",
    "  * `Grimm11D`\n",
    "  * `POPS`\n",
    "  * `ParticlesPlus`\n",
    "  * `AlphasenseOPCN2`\n",
    "  * `AlphasenseOPCN3`\n",
    "  * `Modulair`\n",
    "  * `ModulairPM`\n",
    "\n",
    "All of these classes have the same methods and capabilities of their parent class and it is recommended you use one of these classes where appropriate. If you use the parent class, you will need to define the size bins yourself and is only recommended when you have either changed the default parameters of the instrument or you are working with an instrument that is not supported by default.\n",
    "\n",
    "For the rest of this tutorial, we will use the data we loaded above for the QuantAQ MODULAIR-PM device. We will walk through the basic functionality of the `GenericParticleSizer` class as shown via the `ModulairPM` class."
   ]
  },
  {
   "attachments": {},
   "cell_type": "markdown",
   "metadata": {},
   "source": [
    "### Initializing an instance of the `GenericParticleSizer` class\n",
    "\n",
    "To begin, we need to create an instance of the object with the data. Since we are working with data from a QuantAQ MODULAIR-PM, we will use the `ModulairPM` class:"
   ]
  },
  {
   "cell_type": "code",
   "execution_count": 4,
   "metadata": {},
   "outputs": [],
   "source": [
    "# Load the data into a ModulairPM object\n",
    "obj = smps.models.ModulairPM(data=df)"
   ]
  },
  {
   "attachments": {},
   "cell_type": "markdown",
   "metadata": {},
   "source": [
    "### Explore the attributes of the `GenericParticleSizer`\n",
    "\n",
    "Let's begin by exploring all of the attributes available to us. As mentioned above, all `GenericParticleSizer` objects are defined by their data and bins. To view the bin definition, you can use the `bins` attribute:"
   ]
  },
  {
   "cell_type": "code",
   "execution_count": 5,
   "metadata": {},
   "outputs": [
    {
     "data": {
      "text/plain": [
       "array([[ 0.35 ,  0.405,  0.46 ],\n",
       "       [ 0.46 ,  0.56 ,  0.66 ],\n",
       "       [ 0.66 ,  0.83 ,  1.   ],\n",
       "       [ 1.   ,  1.15 ,  1.3  ],\n",
       "       [ 1.3  ,  1.5  ,  1.7  ],\n",
       "       [ 1.7  ,  2.   ,  2.3  ],\n",
       "       [ 2.3  ,  2.65 ,  3.   ],\n",
       "       [ 3.   ,  3.5  ,  4.   ],\n",
       "       [ 4.   ,  4.6  ,  5.2  ],\n",
       "       [ 5.2  ,  5.85 ,  6.5  ],\n",
       "       [ 6.5  ,  7.25 ,  8.   ],\n",
       "       [ 8.   ,  9.   , 10.   ],\n",
       "       [10.   , 11.   , 12.   ],\n",
       "       [12.   , 13.   , 14.   ],\n",
       "       [14.   , 15.   , 16.   ],\n",
       "       [16.   , 17.   , 18.   ],\n",
       "       [18.   , 19.   , 20.   ],\n",
       "       [20.   , 21.   , 22.   ],\n",
       "       [22.   , 23.5  , 25.   ],\n",
       "       [25.   , 26.5  , 28.   ],\n",
       "       [28.   , 29.5  , 31.   ],\n",
       "       [31.   , 32.5  , 34.   ],\n",
       "       [34.   , 35.5  , 37.   ],\n",
       "       [37.   , 38.5  , 40.   ]])"
      ]
     },
     "execution_count": 5,
     "metadata": {},
     "output_type": "execute_result"
    }
   ],
   "source": [
    "obj.bins"
   ]
  },
  {
   "attachments": {},
   "cell_type": "markdown",
   "metadata": {},
   "source": [
    "We see a 3xn array where each bin is defined by its left boundary, midpoint, and right boundary. The units for these values are µm.\n",
    "\n",
    "If you want to grab just the midpoints, we can use the `midpoints` attribute which returns a 1xn array:"
   ]
  },
  {
   "cell_type": "code",
   "execution_count": 6,
   "metadata": {},
   "outputs": [
    {
     "data": {
      "text/plain": [
       "array([ 0.405,  0.56 ,  0.83 ,  1.15 ,  1.5  ,  2.   ,  2.65 ,  3.5  ,\n",
       "        4.6  ,  5.85 ,  7.25 ,  9.   , 11.   , 13.   , 15.   , 17.   ,\n",
       "       19.   , 21.   , 23.5  , 26.5  , 29.5  , 32.5  , 35.5  , 38.5  ])"
      ]
     },
     "execution_count": 6,
     "metadata": {},
     "output_type": "execute_result"
    }
   ],
   "source": [
    "obj.midpoints"
   ]
  },
  {
   "attachments": {},
   "cell_type": "markdown",
   "metadata": {},
   "source": [
    "We mentioned above that any additional columns are available as meta data - those can be accessed via the `scan_stats` attribute:"
   ]
  },
  {
   "cell_type": "code",
   "execution_count": 7,
   "metadata": {},
   "outputs": [
    {
     "data": {
      "text/html": [
       "<div>\n",
       "<style scoped>\n",
       "    .dataframe tbody tr th:only-of-type {\n",
       "        vertical-align: middle;\n",
       "    }\n",
       "\n",
       "    .dataframe tbody tr th {\n",
       "        vertical-align: top;\n",
       "    }\n",
       "\n",
       "    .dataframe thead th {\n",
       "        text-align: right;\n",
       "    }\n",
       "</style>\n",
       "<table border=\"1\" class=\"dataframe\">\n",
       "  <thead>\n",
       "    <tr style=\"text-align: right;\">\n",
       "      <th></th>\n",
       "      <th>pm1_env</th>\n",
       "      <th>sample_pres</th>\n",
       "      <th>pm1</th>\n",
       "      <th>opcn3_pm10</th>\n",
       "      <th>sample_rh</th>\n",
       "      <th>neph_bin0</th>\n",
       "      <th>opcn3_rh</th>\n",
       "      <th>device_state</th>\n",
       "      <th>pm25</th>\n",
       "      <th>sn</th>\n",
       "      <th>...</th>\n",
       "      <th>neph_bin1</th>\n",
       "      <th>lon</th>\n",
       "      <th>neph_bin2</th>\n",
       "      <th>sample_temp</th>\n",
       "      <th>neph_bin3</th>\n",
       "      <th>opcn3_temp</th>\n",
       "      <th>pm1_model_id</th>\n",
       "      <th>pm25_env</th>\n",
       "      <th>flag</th>\n",
       "      <th>pm10_env</th>\n",
       "    </tr>\n",
       "    <tr>\n",
       "      <th>timestamp</th>\n",
       "      <th></th>\n",
       "      <th></th>\n",
       "      <th></th>\n",
       "      <th></th>\n",
       "      <th></th>\n",
       "      <th></th>\n",
       "      <th></th>\n",
       "      <th></th>\n",
       "      <th></th>\n",
       "      <th></th>\n",
       "      <th></th>\n",
       "      <th></th>\n",
       "      <th></th>\n",
       "      <th></th>\n",
       "      <th></th>\n",
       "      <th></th>\n",
       "      <th></th>\n",
       "      <th></th>\n",
       "      <th></th>\n",
       "      <th></th>\n",
       "      <th></th>\n",
       "    </tr>\n",
       "  </thead>\n",
       "  <tbody>\n",
       "    <tr>\n",
       "      <th>2022-02-15 21:27:30+00:00</th>\n",
       "      <td>0.0</td>\n",
       "      <td>0</td>\n",
       "      <td>0.3809</td>\n",
       "      <td>2.99</td>\n",
       "      <td>38.69</td>\n",
       "      <td>47.625</td>\n",
       "      <td>0</td>\n",
       "      <td>ACTIVE</td>\n",
       "      <td>0.6173</td>\n",
       "      <td>MOD-PM-00386</td>\n",
       "      <td>...</td>\n",
       "      <td>40.625</td>\n",
       "      <td>-103.757</td>\n",
       "      <td>0.0</td>\n",
       "      <td>7.00</td>\n",
       "      <td>0.0</td>\n",
       "      <td>0</td>\n",
       "      <td>3380</td>\n",
       "      <td>0.0</td>\n",
       "      <td>0</td>\n",
       "      <td>0.0</td>\n",
       "    </tr>\n",
       "    <tr>\n",
       "      <th>2022-02-15 21:26:30+00:00</th>\n",
       "      <td>0.0</td>\n",
       "      <td>0</td>\n",
       "      <td>0.3383</td>\n",
       "      <td>1.30</td>\n",
       "      <td>37.76</td>\n",
       "      <td>42.250</td>\n",
       "      <td>0</td>\n",
       "      <td>ACTIVE</td>\n",
       "      <td>0.7299</td>\n",
       "      <td>MOD-PM-00386</td>\n",
       "      <td>...</td>\n",
       "      <td>40.875</td>\n",
       "      <td>-103.757</td>\n",
       "      <td>0.0</td>\n",
       "      <td>6.99</td>\n",
       "      <td>0.0</td>\n",
       "      <td>0</td>\n",
       "      <td>3380</td>\n",
       "      <td>0.0</td>\n",
       "      <td>0</td>\n",
       "      <td>0.0</td>\n",
       "    </tr>\n",
       "    <tr>\n",
       "      <th>2022-02-15 21:25:30+00:00</th>\n",
       "      <td>0.0</td>\n",
       "      <td>0</td>\n",
       "      <td>0.3091</td>\n",
       "      <td>2.79</td>\n",
       "      <td>38.05</td>\n",
       "      <td>38.625</td>\n",
       "      <td>0</td>\n",
       "      <td>ACTIVE</td>\n",
       "      <td>0.6270</td>\n",
       "      <td>MOD-PM-00386</td>\n",
       "      <td>...</td>\n",
       "      <td>36.125</td>\n",
       "      <td>-103.757</td>\n",
       "      <td>0.0</td>\n",
       "      <td>6.98</td>\n",
       "      <td>0.0</td>\n",
       "      <td>0</td>\n",
       "      <td>3380</td>\n",
       "      <td>0.0</td>\n",
       "      <td>0</td>\n",
       "      <td>0.0</td>\n",
       "    </tr>\n",
       "  </tbody>\n",
       "</table>\n",
       "<p>3 rows × 30 columns</p>\n",
       "</div>"
      ],
      "text/plain": [
       "                           pm1_env  sample_pres     pm1  opcn3_pm10  \\\n",
       "timestamp                                                             \n",
       "2022-02-15 21:27:30+00:00      0.0            0  0.3809        2.99   \n",
       "2022-02-15 21:26:30+00:00      0.0            0  0.3383        1.30   \n",
       "2022-02-15 21:25:30+00:00      0.0            0  0.3091        2.79   \n",
       "\n",
       "                           sample_rh  neph_bin0  opcn3_rh device_state  \\\n",
       "timestamp                                                                \n",
       "2022-02-15 21:27:30+00:00      38.69     47.625         0       ACTIVE   \n",
       "2022-02-15 21:26:30+00:00      37.76     42.250         0       ACTIVE   \n",
       "2022-02-15 21:25:30+00:00      38.05     38.625         0       ACTIVE   \n",
       "\n",
       "                             pm25            sn  ...  neph_bin1      lon  \\\n",
       "timestamp                                        ...                       \n",
       "2022-02-15 21:27:30+00:00  0.6173  MOD-PM-00386  ...     40.625 -103.757   \n",
       "2022-02-15 21:26:30+00:00  0.7299  MOD-PM-00386  ...     40.875 -103.757   \n",
       "2022-02-15 21:25:30+00:00  0.6270  MOD-PM-00386  ...     36.125 -103.757   \n",
       "\n",
       "                           neph_bin2  sample_temp  neph_bin3  opcn3_temp  \\\n",
       "timestamp                                                                  \n",
       "2022-02-15 21:27:30+00:00        0.0         7.00        0.0           0   \n",
       "2022-02-15 21:26:30+00:00        0.0         6.99        0.0           0   \n",
       "2022-02-15 21:25:30+00:00        0.0         6.98        0.0           0   \n",
       "\n",
       "                           pm1_model_id  pm25_env  flag pm10_env  \n",
       "timestamp                                                         \n",
       "2022-02-15 21:27:30+00:00          3380       0.0     0      0.0  \n",
       "2022-02-15 21:26:30+00:00          3380       0.0     0      0.0  \n",
       "2022-02-15 21:25:30+00:00          3380       0.0     0      0.0  \n",
       "\n",
       "[3 rows x 30 columns]"
      ]
     },
     "execution_count": 7,
     "metadata": {},
     "output_type": "execute_result"
    }
   ],
   "source": [
    "obj.scan_stats.head(3)"
   ]
  },
  {
   "attachments": {},
   "cell_type": "markdown",
   "metadata": {},
   "source": [
    "You will notice that the above call returns all columns in the original data that are not \"binned\" particle concentrations."
   ]
  },
  {
   "attachments": {},
   "cell_type": "markdown",
   "metadata": {},
   "source": [
    "Next, there are a number of different ways in which you can grab and view the raw data, all available as attributes. These include:\n",
    "\n",
    "  * `dn`: particle number concentration by bin\n",
    "  * `ds`: surface area by bin\n",
    "  * `dv`: volume by bin\n",
    "  * `dndlogdp`: normalized particle number concentration by bin\n",
    "  * `dsdlogdp`: normalized surface area by bin\n",
    "  * `dvdlogdp`: normalized volume by bin\n",
    "\n",
    "As an example, here is the number concentation by bin:\n"
   ]
  },
  {
   "cell_type": "code",
   "execution_count": 8,
   "metadata": {},
   "outputs": [
    {
     "data": {
      "text/html": [
       "<div>\n",
       "<style scoped>\n",
       "    .dataframe tbody tr th:only-of-type {\n",
       "        vertical-align: middle;\n",
       "    }\n",
       "\n",
       "    .dataframe tbody tr th {\n",
       "        vertical-align: top;\n",
       "    }\n",
       "\n",
       "    .dataframe thead th {\n",
       "        text-align: right;\n",
       "    }\n",
       "</style>\n",
       "<table border=\"1\" class=\"dataframe\">\n",
       "  <thead>\n",
       "    <tr style=\"text-align: right;\">\n",
       "      <th></th>\n",
       "      <th>bin0</th>\n",
       "      <th>bin1</th>\n",
       "      <th>bin2</th>\n",
       "      <th>bin3</th>\n",
       "      <th>bin4</th>\n",
       "      <th>bin5</th>\n",
       "      <th>bin6</th>\n",
       "      <th>bin7</th>\n",
       "      <th>bin8</th>\n",
       "      <th>bin9</th>\n",
       "      <th>...</th>\n",
       "      <th>bin14</th>\n",
       "      <th>bin15</th>\n",
       "      <th>bin16</th>\n",
       "      <th>bin17</th>\n",
       "      <th>bin18</th>\n",
       "      <th>bin19</th>\n",
       "      <th>bin20</th>\n",
       "      <th>bin21</th>\n",
       "      <th>bin22</th>\n",
       "      <th>bin23</th>\n",
       "    </tr>\n",
       "    <tr>\n",
       "      <th>timestamp</th>\n",
       "      <th></th>\n",
       "      <th></th>\n",
       "      <th></th>\n",
       "      <th></th>\n",
       "      <th></th>\n",
       "      <th></th>\n",
       "      <th></th>\n",
       "      <th></th>\n",
       "      <th></th>\n",
       "      <th></th>\n",
       "      <th></th>\n",
       "      <th></th>\n",
       "      <th></th>\n",
       "      <th></th>\n",
       "      <th></th>\n",
       "      <th></th>\n",
       "      <th></th>\n",
       "      <th></th>\n",
       "      <th></th>\n",
       "      <th></th>\n",
       "      <th></th>\n",
       "    </tr>\n",
       "  </thead>\n",
       "  <tbody>\n",
       "    <tr>\n",
       "      <th>2022-02-15 21:27:30+00:00</th>\n",
       "      <td>1.5300</td>\n",
       "      <td>0.2194</td>\n",
       "      <td>0.0579</td>\n",
       "      <td>0.0064</td>\n",
       "      <td>0.0097</td>\n",
       "      <td>0.0129</td>\n",
       "      <td>0.0129</td>\n",
       "      <td>0.0032</td>\n",
       "      <td>0.0033</td>\n",
       "      <td>0.0000</td>\n",
       "      <td>...</td>\n",
       "      <td>0.0</td>\n",
       "      <td>0.0</td>\n",
       "      <td>0.0</td>\n",
       "      <td>0.0</td>\n",
       "      <td>0.0</td>\n",
       "      <td>0.0</td>\n",
       "      <td>0.0</td>\n",
       "      <td>0.0</td>\n",
       "      <td>0.0</td>\n",
       "      <td>0.0</td>\n",
       "    </tr>\n",
       "    <tr>\n",
       "      <th>2022-02-15 21:26:30+00:00</th>\n",
       "      <td>1.6633</td>\n",
       "      <td>0.1843</td>\n",
       "      <td>0.0811</td>\n",
       "      <td>0.0225</td>\n",
       "      <td>0.0228</td>\n",
       "      <td>0.0227</td>\n",
       "      <td>0.0163</td>\n",
       "      <td>0.0000</td>\n",
       "      <td>0.0000</td>\n",
       "      <td>0.0000</td>\n",
       "      <td>...</td>\n",
       "      <td>0.0</td>\n",
       "      <td>0.0</td>\n",
       "      <td>0.0</td>\n",
       "      <td>0.0</td>\n",
       "      <td>0.0</td>\n",
       "      <td>0.0</td>\n",
       "      <td>0.0</td>\n",
       "      <td>0.0</td>\n",
       "      <td>0.0</td>\n",
       "      <td>0.0</td>\n",
       "    </tr>\n",
       "    <tr>\n",
       "      <th>2022-02-15 21:25:30+00:00</th>\n",
       "      <td>1.6052</td>\n",
       "      <td>0.1605</td>\n",
       "      <td>0.0767</td>\n",
       "      <td>0.0134</td>\n",
       "      <td>0.0132</td>\n",
       "      <td>0.0133</td>\n",
       "      <td>0.0201</td>\n",
       "      <td>0.0033</td>\n",
       "      <td>0.0033</td>\n",
       "      <td>0.0033</td>\n",
       "      <td>...</td>\n",
       "      <td>0.0</td>\n",
       "      <td>0.0</td>\n",
       "      <td>0.0</td>\n",
       "      <td>0.0</td>\n",
       "      <td>0.0</td>\n",
       "      <td>0.0</td>\n",
       "      <td>0.0</td>\n",
       "      <td>0.0</td>\n",
       "      <td>0.0</td>\n",
       "      <td>0.0</td>\n",
       "    </tr>\n",
       "  </tbody>\n",
       "</table>\n",
       "<p>3 rows × 24 columns</p>\n",
       "</div>"
      ],
      "text/plain": [
       "                             bin0    bin1    bin2    bin3    bin4    bin5  \\\n",
       "timestamp                                                                   \n",
       "2022-02-15 21:27:30+00:00  1.5300  0.2194  0.0579  0.0064  0.0097  0.0129   \n",
       "2022-02-15 21:26:30+00:00  1.6633  0.1843  0.0811  0.0225  0.0228  0.0227   \n",
       "2022-02-15 21:25:30+00:00  1.6052  0.1605  0.0767  0.0134  0.0132  0.0133   \n",
       "\n",
       "                             bin6    bin7    bin8    bin9  ...  bin14  bin15  \\\n",
       "timestamp                                                  ...                 \n",
       "2022-02-15 21:27:30+00:00  0.0129  0.0032  0.0033  0.0000  ...    0.0    0.0   \n",
       "2022-02-15 21:26:30+00:00  0.0163  0.0000  0.0000  0.0000  ...    0.0    0.0   \n",
       "2022-02-15 21:25:30+00:00  0.0201  0.0033  0.0033  0.0033  ...    0.0    0.0   \n",
       "\n",
       "                           bin16  bin17  bin18  bin19  bin20  bin21  bin22  \\\n",
       "timestamp                                                                    \n",
       "2022-02-15 21:27:30+00:00    0.0    0.0    0.0    0.0    0.0    0.0    0.0   \n",
       "2022-02-15 21:26:30+00:00    0.0    0.0    0.0    0.0    0.0    0.0    0.0   \n",
       "2022-02-15 21:25:30+00:00    0.0    0.0    0.0    0.0    0.0    0.0    0.0   \n",
       "\n",
       "                           bin23  \n",
       "timestamp                         \n",
       "2022-02-15 21:27:30+00:00    0.0  \n",
       "2022-02-15 21:26:30+00:00    0.0  \n",
       "2022-02-15 21:25:30+00:00    0.0  \n",
       "\n",
       "[3 rows x 24 columns]"
      ]
     },
     "execution_count": 8,
     "metadata": {},
     "output_type": "execute_result"
    }
   ],
   "source": [
    "obj.dn.head(3)"
   ]
  },
  {
   "attachments": {},
   "cell_type": "markdown",
   "metadata": {},
   "source": [
    "And here is the normalized number concentration by bin:"
   ]
  },
  {
   "cell_type": "code",
   "execution_count": 9,
   "metadata": {},
   "outputs": [
    {
     "data": {
      "text/html": [
       "<div>\n",
       "<style scoped>\n",
       "    .dataframe tbody tr th:only-of-type {\n",
       "        vertical-align: middle;\n",
       "    }\n",
       "\n",
       "    .dataframe tbody tr th {\n",
       "        vertical-align: top;\n",
       "    }\n",
       "\n",
       "    .dataframe thead th {\n",
       "        text-align: right;\n",
       "    }\n",
       "</style>\n",
       "<table border=\"1\" class=\"dataframe\">\n",
       "  <thead>\n",
       "    <tr style=\"text-align: right;\">\n",
       "      <th></th>\n",
       "      <th>bin0</th>\n",
       "      <th>bin1</th>\n",
       "      <th>bin2</th>\n",
       "      <th>bin3</th>\n",
       "      <th>bin4</th>\n",
       "      <th>bin5</th>\n",
       "      <th>bin6</th>\n",
       "      <th>bin7</th>\n",
       "      <th>bin8</th>\n",
       "      <th>bin9</th>\n",
       "      <th>...</th>\n",
       "      <th>bin14</th>\n",
       "      <th>bin15</th>\n",
       "      <th>bin16</th>\n",
       "      <th>bin17</th>\n",
       "      <th>bin18</th>\n",
       "      <th>bin19</th>\n",
       "      <th>bin20</th>\n",
       "      <th>bin21</th>\n",
       "      <th>bin22</th>\n",
       "      <th>bin23</th>\n",
       "    </tr>\n",
       "    <tr>\n",
       "      <th>timestamp</th>\n",
       "      <th></th>\n",
       "      <th></th>\n",
       "      <th></th>\n",
       "      <th></th>\n",
       "      <th></th>\n",
       "      <th></th>\n",
       "      <th></th>\n",
       "      <th></th>\n",
       "      <th></th>\n",
       "      <th></th>\n",
       "      <th></th>\n",
       "      <th></th>\n",
       "      <th></th>\n",
       "      <th></th>\n",
       "      <th></th>\n",
       "      <th></th>\n",
       "      <th></th>\n",
       "      <th></th>\n",
       "      <th></th>\n",
       "      <th></th>\n",
       "      <th></th>\n",
       "    </tr>\n",
       "  </thead>\n",
       "  <tbody>\n",
       "    <tr>\n",
       "      <th>2022-02-15 21:27:30+00:00</th>\n",
       "      <td>12.890747</td>\n",
       "      <td>1.399359</td>\n",
       "      <td>0.320854</td>\n",
       "      <td>0.056168</td>\n",
       "      <td>0.083258</td>\n",
       "      <td>0.098264</td>\n",
       "      <td>0.111791</td>\n",
       "      <td>0.025613</td>\n",
       "      <td>0.028962</td>\n",
       "      <td>0.000000</td>\n",
       "      <td>...</td>\n",
       "      <td>0.0</td>\n",
       "      <td>0.0</td>\n",
       "      <td>0.0</td>\n",
       "      <td>0.0</td>\n",
       "      <td>0.0</td>\n",
       "      <td>0.0</td>\n",
       "      <td>0.0</td>\n",
       "      <td>0.0</td>\n",
       "      <td>0.0</td>\n",
       "      <td>0.0</td>\n",
       "    </tr>\n",
       "    <tr>\n",
       "      <th>2022-02-15 21:26:30+00:00</th>\n",
       "      <td>14.013843</td>\n",
       "      <td>1.175487</td>\n",
       "      <td>0.449417</td>\n",
       "      <td>0.197467</td>\n",
       "      <td>0.195699</td>\n",
       "      <td>0.172914</td>\n",
       "      <td>0.141256</td>\n",
       "      <td>0.000000</td>\n",
       "      <td>0.000000</td>\n",
       "      <td>0.000000</td>\n",
       "      <td>...</td>\n",
       "      <td>0.0</td>\n",
       "      <td>0.0</td>\n",
       "      <td>0.0</td>\n",
       "      <td>0.0</td>\n",
       "      <td>0.0</td>\n",
       "      <td>0.0</td>\n",
       "      <td>0.0</td>\n",
       "      <td>0.0</td>\n",
       "      <td>0.0</td>\n",
       "      <td>0.0</td>\n",
       "    </tr>\n",
       "    <tr>\n",
       "      <th>2022-02-15 21:25:30+00:00</th>\n",
       "      <td>13.524331</td>\n",
       "      <td>1.023688</td>\n",
       "      <td>0.425034</td>\n",
       "      <td>0.117602</td>\n",
       "      <td>0.113299</td>\n",
       "      <td>0.101311</td>\n",
       "      <td>0.174187</td>\n",
       "      <td>0.026413</td>\n",
       "      <td>0.028962</td>\n",
       "      <td>0.034052</td>\n",
       "      <td>...</td>\n",
       "      <td>0.0</td>\n",
       "      <td>0.0</td>\n",
       "      <td>0.0</td>\n",
       "      <td>0.0</td>\n",
       "      <td>0.0</td>\n",
       "      <td>0.0</td>\n",
       "      <td>0.0</td>\n",
       "      <td>0.0</td>\n",
       "      <td>0.0</td>\n",
       "      <td>0.0</td>\n",
       "    </tr>\n",
       "  </tbody>\n",
       "</table>\n",
       "<p>3 rows × 24 columns</p>\n",
       "</div>"
      ],
      "text/plain": [
       "                                bin0      bin1      bin2      bin3      bin4  \\\n",
       "timestamp                                                                      \n",
       "2022-02-15 21:27:30+00:00  12.890747  1.399359  0.320854  0.056168  0.083258   \n",
       "2022-02-15 21:26:30+00:00  14.013843  1.175487  0.449417  0.197467  0.195699   \n",
       "2022-02-15 21:25:30+00:00  13.524331  1.023688  0.425034  0.117602  0.113299   \n",
       "\n",
       "                               bin5      bin6      bin7      bin8      bin9  \\\n",
       "timestamp                                                                     \n",
       "2022-02-15 21:27:30+00:00  0.098264  0.111791  0.025613  0.028962  0.000000   \n",
       "2022-02-15 21:26:30+00:00  0.172914  0.141256  0.000000  0.000000  0.000000   \n",
       "2022-02-15 21:25:30+00:00  0.101311  0.174187  0.026413  0.028962  0.034052   \n",
       "\n",
       "                           ...  bin14  bin15  bin16  bin17  bin18  bin19  \\\n",
       "timestamp                  ...                                             \n",
       "2022-02-15 21:27:30+00:00  ...    0.0    0.0    0.0    0.0    0.0    0.0   \n",
       "2022-02-15 21:26:30+00:00  ...    0.0    0.0    0.0    0.0    0.0    0.0   \n",
       "2022-02-15 21:25:30+00:00  ...    0.0    0.0    0.0    0.0    0.0    0.0   \n",
       "\n",
       "                           bin20  bin21  bin22  bin23  \n",
       "timestamp                                              \n",
       "2022-02-15 21:27:30+00:00    0.0    0.0    0.0    0.0  \n",
       "2022-02-15 21:26:30+00:00    0.0    0.0    0.0    0.0  \n",
       "2022-02-15 21:25:30+00:00    0.0    0.0    0.0    0.0  \n",
       "\n",
       "[3 rows x 24 columns]"
      ]
     },
     "execution_count": 9,
     "metadata": {},
     "output_type": "execute_result"
    }
   ],
   "source": [
    "obj.dndlogdp.head(3)"
   ]
  },
  {
   "attachments": {},
   "cell_type": "markdown",
   "metadata": {},
   "source": [
    "### Explore the methods of the `GenericParticleSizer`\n",
    "\n",
    "There are several key methods available under the `GenericParticleSizer` class that allow you to quickly and easily compute various parameters. They can be summarized as follows:\n",
    "\n",
    "  * `copy`: create a copy of the model\n",
    "  * `dump`: save a local copy of the model to disk\n",
    "  * `resample`: resample data onto a new time basis\n",
    "  * `slice`: slice the data between two datetimes\n",
    "  * `stats`: compute the aerosol size distribution statistics (e.g., number of particles, GM, GSD, etc.)\n",
    "  * `integrate`: compute the integrated number, surface area, volume, or mass between two diameters\n",
    "\n",
    "\n",
    "Below, we will walk through each of these methods to demonstrate their capabilities and document their use cases.\n",
    "\n",
    "#### `copy`\n",
    "\n",
    "The `copy` method is used to create a copy of the model so that you can *slice* it or modify it in some non-reversible way:"
   ]
  },
  {
   "cell_type": "code",
   "execution_count": 10,
   "metadata": {},
   "outputs": [
    {
     "data": {
      "text/plain": [
       "<smps.models.ModulairPM at 0x1478e0310>"
      ]
     },
     "execution_count": 10,
     "metadata": {},
     "output_type": "execute_result"
    }
   ],
   "source": [
    "obj2 = obj.copy()\n",
    "\n",
    "obj2"
   ]
  },
  {
   "attachments": {},
   "cell_type": "markdown",
   "metadata": {},
   "source": [
    "#### `dump`\n",
    "\n",
    "The `dump` method is used to pickle and save a copy of the file locally to `filepath`:"
   ]
  },
  {
   "cell_type": "code",
   "execution_count": 11,
   "metadata": {},
   "outputs": [
    {
     "data": {
      "text/plain": [
       "['smps-obj-1.sav']"
      ]
     },
     "execution_count": 11,
     "metadata": {},
     "output_type": "execute_result"
    }
   ],
   "source": [
    "obj.dump(\"smps-obj-1.sav\")"
   ]
  },
  {
   "attachments": {},
   "cell_type": "markdown",
   "metadata": {},
   "source": [
    "<div class=\"alert alert-info\">\n",
    "\n",
    "Note\n",
    "\n",
    "Currently, this file must be in the same directory as you're currently working, otherwise `joblib` will be unhappy.\n",
    "\n",
    "</div>"
   ]
  },
  {
   "attachments": {},
   "cell_type": "markdown",
   "metadata": {},
   "source": [
    "#### `resample`\n",
    "\n",
    "The `resample` method allows you to resample your data onto a new time base. For example, if you originially are working with 1-minute data, but want to work with hourly data, you can resample:"
   ]
  },
  {
   "cell_type": "code",
   "execution_count": 12,
   "metadata": {},
   "outputs": [],
   "source": [
    "rs = obj.resample(rs='1h', inplace=False)"
   ]
  },
  {
   "attachments": {},
   "cell_type": "markdown",
   "metadata": {},
   "source": [
    "#### `slice`\n",
    "\n",
    "The `slice` method allows you to quickly remove all data that is not between the `start` and `end` timestamps. You can use the `inplace` argument to determine whether a new copy is returned or the current data is overwritten:"
   ]
  },
  {
   "cell_type": "code",
   "execution_count": 13,
   "metadata": {},
   "outputs": [],
   "source": [
    "obj2 = obj.slice(start=\"2022-02-15 22:00\", end=\"2022-02-15 04:00\", inplace=False)"
   ]
  },
  {
   "attachments": {},
   "cell_type": "markdown",
   "metadata": {},
   "source": [
    "#### `stats`\n",
    "\n",
    "The `stats` method allows you to easily calculate common aerosol distribution statistics as weighted by one of ('number', 'surface', 'volume', or 'mass'). The values returned include:\n",
    "\n",
    "  * `number`: the total number of particles\n",
    "  * `surface_area`: the total surface area of particles\n",
    "  * `volume`: the total volume of particles\n",
    "  * `mass`: the total mass of particles\n",
    "  * `AM`: the arithmetic mean particle diameter\n",
    "  * `GM`: the geometric mean particle diameter\n",
    "  * `Mode`: the mode particle diameter\n",
    "  * `GSD`: the geometric standard deviation"
   ]
  },
  {
   "cell_type": "code",
   "execution_count": 14,
   "metadata": {},
   "outputs": [
    {
     "data": {
      "text/html": [
       "<div>\n",
       "<style scoped>\n",
       "    .dataframe tbody tr th:only-of-type {\n",
       "        vertical-align: middle;\n",
       "    }\n",
       "\n",
       "    .dataframe tbody tr th {\n",
       "        vertical-align: top;\n",
       "    }\n",
       "\n",
       "    .dataframe thead th {\n",
       "        text-align: right;\n",
       "    }\n",
       "</style>\n",
       "<table border=\"1\" class=\"dataframe\">\n",
       "  <thead>\n",
       "    <tr style=\"text-align: right;\">\n",
       "      <th></th>\n",
       "      <th>number</th>\n",
       "      <th>surface_area</th>\n",
       "      <th>volume</th>\n",
       "      <th>mass</th>\n",
       "      <th>AM</th>\n",
       "      <th>GM</th>\n",
       "      <th>Mode</th>\n",
       "      <th>GSD</th>\n",
       "    </tr>\n",
       "    <tr>\n",
       "      <th>timestamp</th>\n",
       "      <th></th>\n",
       "      <th></th>\n",
       "      <th></th>\n",
       "      <th></th>\n",
       "      <th></th>\n",
       "      <th></th>\n",
       "      <th></th>\n",
       "      <th></th>\n",
       "    </tr>\n",
       "  </thead>\n",
       "  <tbody>\n",
       "    <tr>\n",
       "      <th>2022-02-15 21:27:30+00:00</th>\n",
       "      <td>1.8589</td>\n",
       "      <td>2.542669</td>\n",
       "      <td>1.171222</td>\n",
       "      <td>1.932516</td>\n",
       "      <td>496.016999</td>\n",
       "      <td>451.248888</td>\n",
       "      <td>405.0</td>\n",
       "      <td>1.381490</td>\n",
       "    </tr>\n",
       "    <tr>\n",
       "      <th>2022-02-15 21:26:30+00:00</th>\n",
       "      <td>2.0130</td>\n",
       "      <td>2.113701</td>\n",
       "      <td>0.411202</td>\n",
       "      <td>0.678483</td>\n",
       "      <td>493.207899</td>\n",
       "      <td>455.856515</td>\n",
       "      <td>405.0</td>\n",
       "      <td>1.383312</td>\n",
       "    </tr>\n",
       "    <tr>\n",
       "      <th>2022-02-15 21:25:30+00:00</th>\n",
       "      <td>1.9123</td>\n",
       "      <td>2.612000</td>\n",
       "      <td>0.967307</td>\n",
       "      <td>1.596057</td>\n",
       "      <td>504.500863</td>\n",
       "      <td>454.677924</td>\n",
       "      <td>405.0</td>\n",
       "      <td>1.415795</td>\n",
       "    </tr>\n",
       "  </tbody>\n",
       "</table>\n",
       "</div>"
      ],
      "text/plain": [
       "                           number  surface_area    volume      mass  \\\n",
       "timestamp                                                             \n",
       "2022-02-15 21:27:30+00:00  1.8589      2.542669  1.171222  1.932516   \n",
       "2022-02-15 21:26:30+00:00  2.0130      2.113701  0.411202  0.678483   \n",
       "2022-02-15 21:25:30+00:00  1.9123      2.612000  0.967307  1.596057   \n",
       "\n",
       "                                   AM          GM   Mode       GSD  \n",
       "timestamp                                                           \n",
       "2022-02-15 21:27:30+00:00  496.016999  451.248888  405.0  1.381490  \n",
       "2022-02-15 21:26:30+00:00  493.207899  455.856515  405.0  1.383312  \n",
       "2022-02-15 21:25:30+00:00  504.500863  454.677924  405.0  1.415795  "
      ]
     },
     "execution_count": 14,
     "metadata": {},
     "output_type": "execute_result"
    }
   ],
   "source": [
    "# Compute the number-weighted stats for the entire size distribution\n",
    "stats = obj.stats(weight='number')\n",
    "\n",
    "stats.head(3)"
   ]
  },
  {
   "attachments": {},
   "cell_type": "markdown",
   "metadata": {},
   "source": [
    "You can also limit the diameter over which you compute statistics over using the `dmin` and `dmax` arguments:"
   ]
  },
  {
   "cell_type": "code",
   "execution_count": 15,
   "metadata": {},
   "outputs": [
    {
     "data": {
      "text/html": [
       "<div>\n",
       "<style scoped>\n",
       "    .dataframe tbody tr th:only-of-type {\n",
       "        vertical-align: middle;\n",
       "    }\n",
       "\n",
       "    .dataframe tbody tr th {\n",
       "        vertical-align: top;\n",
       "    }\n",
       "\n",
       "    .dataframe thead th {\n",
       "        text-align: right;\n",
       "    }\n",
       "</style>\n",
       "<table border=\"1\" class=\"dataframe\">\n",
       "  <thead>\n",
       "    <tr style=\"text-align: right;\">\n",
       "      <th></th>\n",
       "      <th>number</th>\n",
       "      <th>surface_area</th>\n",
       "      <th>volume</th>\n",
       "      <th>mass</th>\n",
       "      <th>AM</th>\n",
       "      <th>GM</th>\n",
       "      <th>Mode</th>\n",
       "      <th>GSD</th>\n",
       "    </tr>\n",
       "    <tr>\n",
       "      <th>timestamp</th>\n",
       "      <th></th>\n",
       "      <th></th>\n",
       "      <th></th>\n",
       "      <th></th>\n",
       "      <th></th>\n",
       "      <th></th>\n",
       "      <th></th>\n",
       "      <th></th>\n",
       "    </tr>\n",
       "  </thead>\n",
       "  <tbody>\n",
       "    <tr>\n",
       "      <th>2022-02-15 21:27:30+00:00</th>\n",
       "      <td>1.839986</td>\n",
       "      <td>1.468447</td>\n",
       "      <td>0.202913</td>\n",
       "      <td>0.334807</td>\n",
       "      <td>460.899308</td>\n",
       "      <td>441.685395</td>\n",
       "      <td>405.0</td>\n",
       "      <td>1.274885</td>\n",
       "    </tr>\n",
       "    <tr>\n",
       "      <th>2022-02-15 21:26:30+00:00</th>\n",
       "      <td>2.001357</td>\n",
       "      <td>1.856839</td>\n",
       "      <td>0.297754</td>\n",
       "      <td>0.491294</td>\n",
       "      <td>480.660802</td>\n",
       "      <td>451.212560</td>\n",
       "      <td>405.0</td>\n",
       "      <td>1.344825</td>\n",
       "    </tr>\n",
       "    <tr>\n",
       "      <th>2022-02-15 21:25:30+00:00</th>\n",
       "      <td>1.888043</td>\n",
       "      <td>1.594091</td>\n",
       "      <td>0.239221</td>\n",
       "      <td>0.394714</td>\n",
       "      <td>466.448930</td>\n",
       "      <td>443.238476</td>\n",
       "      <td>405.0</td>\n",
       "      <td>1.303166</td>\n",
       "    </tr>\n",
       "  </tbody>\n",
       "</table>\n",
       "</div>"
      ],
      "text/plain": [
       "                             number  surface_area    volume      mass  \\\n",
       "timestamp                                                               \n",
       "2022-02-15 21:27:30+00:00  1.839986      1.468447  0.202913  0.334807   \n",
       "2022-02-15 21:26:30+00:00  2.001357      1.856839  0.297754  0.491294   \n",
       "2022-02-15 21:25:30+00:00  1.888043      1.594091  0.239221  0.394714   \n",
       "\n",
       "                                   AM          GM   Mode       GSD  \n",
       "timestamp                                                           \n",
       "2022-02-15 21:27:30+00:00  460.899308  441.685395  405.0  1.274885  \n",
       "2022-02-15 21:26:30+00:00  480.660802  451.212560  405.0  1.344825  \n",
       "2022-02-15 21:25:30+00:00  466.448930  443.238476  405.0  1.303166  "
      ]
     },
     "execution_count": 15,
     "metadata": {},
     "output_type": "execute_result"
    }
   ],
   "source": [
    "# Compute the number-weighted stats for just PM2.5\n",
    "stats = obj.stats(weight='number', dmin=0, dmax=2.5)\n",
    "\n",
    "stats.head(3)"
   ]
  },
  {
   "attachments": {},
   "cell_type": "markdown",
   "metadata": {},
   "source": [
    "We can also go ahead and compute the volume-weighted stats:"
   ]
  },
  {
   "cell_type": "code",
   "execution_count": 16,
   "metadata": {},
   "outputs": [
    {
     "data": {
      "text/html": [
       "<div>\n",
       "<style scoped>\n",
       "    .dataframe tbody tr th:only-of-type {\n",
       "        vertical-align: middle;\n",
       "    }\n",
       "\n",
       "    .dataframe tbody tr th {\n",
       "        vertical-align: top;\n",
       "    }\n",
       "\n",
       "    .dataframe thead th {\n",
       "        text-align: right;\n",
       "    }\n",
       "</style>\n",
       "<table border=\"1\" class=\"dataframe\">\n",
       "  <thead>\n",
       "    <tr style=\"text-align: right;\">\n",
       "      <th></th>\n",
       "      <th>number</th>\n",
       "      <th>surface_area</th>\n",
       "      <th>volume</th>\n",
       "      <th>mass</th>\n",
       "      <th>AM</th>\n",
       "      <th>GM</th>\n",
       "      <th>Mode</th>\n",
       "      <th>GSD</th>\n",
       "    </tr>\n",
       "    <tr>\n",
       "      <th>timestamp</th>\n",
       "      <th></th>\n",
       "      <th></th>\n",
       "      <th></th>\n",
       "      <th></th>\n",
       "      <th></th>\n",
       "      <th></th>\n",
       "      <th></th>\n",
       "      <th></th>\n",
       "    </tr>\n",
       "  </thead>\n",
       "  <tbody>\n",
       "    <tr>\n",
       "      <th>2022-02-15 21:27:30+00:00</th>\n",
       "      <td>1.839986</td>\n",
       "      <td>1.468447</td>\n",
       "      <td>0.202913</td>\n",
       "      <td>0.334807</td>\n",
       "      <td>1390.018045</td>\n",
       "      <td>1087.859802</td>\n",
       "      <td>405.0</td>\n",
       "      <td>2.104975</td>\n",
       "    </tr>\n",
       "    <tr>\n",
       "      <th>2022-02-15 21:26:30+00:00</th>\n",
       "      <td>2.001357</td>\n",
       "      <td>1.856839</td>\n",
       "      <td>0.297754</td>\n",
       "      <td>0.491294</td>\n",
       "      <td>1492.979396</td>\n",
       "      <td>1232.860263</td>\n",
       "      <td>2000.0</td>\n",
       "      <td>1.968189</td>\n",
       "    </tr>\n",
       "    <tr>\n",
       "      <th>2022-02-15 21:25:30+00:00</th>\n",
       "      <td>1.888043</td>\n",
       "      <td>1.594091</td>\n",
       "      <td>0.239221</td>\n",
       "      <td>0.394714</td>\n",
       "      <td>1491.962402</td>\n",
       "      <td>1185.952258</td>\n",
       "      <td>2650.0</td>\n",
       "      <td>2.080376</td>\n",
       "    </tr>\n",
       "  </tbody>\n",
       "</table>\n",
       "</div>"
      ],
      "text/plain": [
       "                             number  surface_area    volume      mass  \\\n",
       "timestamp                                                               \n",
       "2022-02-15 21:27:30+00:00  1.839986      1.468447  0.202913  0.334807   \n",
       "2022-02-15 21:26:30+00:00  2.001357      1.856839  0.297754  0.491294   \n",
       "2022-02-15 21:25:30+00:00  1.888043      1.594091  0.239221  0.394714   \n",
       "\n",
       "                                    AM           GM    Mode       GSD  \n",
       "timestamp                                                              \n",
       "2022-02-15 21:27:30+00:00  1390.018045  1087.859802   405.0  2.104975  \n",
       "2022-02-15 21:26:30+00:00  1492.979396  1232.860263  2000.0  1.968189  \n",
       "2022-02-15 21:25:30+00:00  1491.962402  1185.952258  2650.0  2.080376  "
      ]
     },
     "execution_count": 16,
     "metadata": {},
     "output_type": "execute_result"
    }
   ],
   "source": [
    "# Compute the volume-weighted stats for PM2.5\n",
    "stats = obj.stats(weight='volume', dmin=0., dmax=2.5)\n",
    "\n",
    "stats.head(3)"
   ]
  },
  {
   "attachments": {},
   "cell_type": "markdown",
   "metadata": {},
   "source": [
    "#### `integrate`\n",
    "\n",
    "The `integrate` method is certaintly the most interesting, complex, and most used method. It can compute integrated mass values, number concentrations, and make adjustments for denstiy and hygroscopic growth! We'll go over many such options below.\n",
    "\n",
    "First, we will begin with the most common use case - integrating the number of particles between two diameters. If we want to calculate the total number of particles between two diameters, we can do as as follows:"
   ]
  },
  {
   "cell_type": "code",
   "execution_count": 17,
   "metadata": {},
   "outputs": [
    {
     "data": {
      "text/plain": [
       "timestamp\n",
       "2022-02-15 21:27:30+00:00    1.8073\n",
       "2022-02-15 21:26:30+00:00    1.9287\n",
       "2022-02-15 21:25:30+00:00    1.8424\n",
       "2022-02-15 21:24:30+00:00    2.0080\n",
       "2022-02-15 21:23:30+00:00    1.8171\n",
       "                              ...  \n",
       "2022-02-15 04:43:32+00:00    1.2142\n",
       "2022-02-15 04:42:32+00:00    1.3960\n",
       "2022-02-15 04:41:32+00:00    1.2146\n",
       "2022-02-15 04:40:32+00:00    1.3789\n",
       "2022-02-15 04:39:32+00:00    1.3231\n",
       "Length: 1009, dtype: float64"
      ]
     },
     "execution_count": 17,
     "metadata": {},
     "output_type": "execute_result"
    }
   ],
   "source": [
    "obj.integrate(weight='number', dmin=0, dmax=1)"
   ]
  },
  {
   "attachments": {},
   "cell_type": "markdown",
   "metadata": {},
   "source": [
    "If we want to compute the PM1 value (integrated mass between 1 and 2.5 µm):"
   ]
  },
  {
   "cell_type": "code",
   "execution_count": 18,
   "metadata": {},
   "outputs": [
    {
     "data": {
      "text/plain": [
       "timestamp\n",
       "2022-02-15 21:27:30+00:00    0.149699\n",
       "2022-02-15 21:26:30+00:00    0.163484\n",
       "2022-02-15 21:25:30+00:00    0.154365\n",
       "2022-02-15 21:24:30+00:00    0.155946\n",
       "2022-02-15 21:23:30+00:00    0.143755\n",
       "                               ...   \n",
       "2022-02-15 04:43:32+00:00    0.093075\n",
       "2022-02-15 04:42:32+00:00    0.106044\n",
       "2022-02-15 04:41:32+00:00    0.098637\n",
       "2022-02-15 04:40:32+00:00    0.111538\n",
       "2022-02-15 04:39:32+00:00    0.109767\n",
       "Length: 1009, dtype: float64"
      ]
     },
     "execution_count": 18,
     "metadata": {},
     "output_type": "execute_result"
    }
   ],
   "source": [
    "obj.integrate(weight='mass', dmin=0., dmax=1., rho=1.65)"
   ]
  },
  {
   "attachments": {},
   "cell_type": "markdown",
   "metadata": {},
   "source": [
    "Above, we assumed a constant density of 1.65 g/cm3; however, the `integrate` method also supports custom functions to compute density as a function of particle diameter. To do so, you simply need to provide a callable function that will return the desired density as a function of particle diameter in µm. For example, if we want to compute PM10 and assume that density is 1.65 g/cm3 below 3µm and 2.5 g/cm3 above 3 µm:"
   ]
  },
  {
   "cell_type": "code",
   "execution_count": 19,
   "metadata": {},
   "outputs": [
    {
     "data": {
      "text/plain": [
       "timestamp\n",
       "2022-02-15 21:27:30+00:00    2.679262\n",
       "2022-02-15 21:26:30+00:00    0.678483\n",
       "2022-02-15 21:25:30+00:00    2.096019\n",
       "2022-02-15 21:24:30+00:00    1.577014\n",
       "2022-02-15 21:23:30+00:00    1.631535\n",
       "                               ...   \n",
       "2022-02-15 04:43:32+00:00    0.849622\n",
       "2022-02-15 04:42:32+00:00    1.532512\n",
       "2022-02-15 04:41:32+00:00    2.868572\n",
       "2022-02-15 04:40:32+00:00    5.942367\n",
       "2022-02-15 04:39:32+00:00    2.217525\n",
       "Length: 1009, dtype: float64"
      ]
     },
     "execution_count": 19,
     "metadata": {},
     "output_type": "execute_result"
    }
   ],
   "source": [
    "def custom_density(dp):\n",
    "    \"\"\"Calculate density as a function of particle diameter in µm.\n",
    "\n",
    "    Parameters\n",
    "    ----------\n",
    "    dp : float\n",
    "        Particle diameter in microns.\n",
    "    \"\"\"\n",
    "    return 1.65 if dp < 3 else 2.5\n",
    "\n",
    "# Compute PM10\n",
    "obj.integrate(weight='mass', dmin=0., dmax=10., rho=custom_density)"
   ]
  },
  {
   "attachments": {},
   "cell_type": "markdown",
   "metadata": {},
   "source": [
    "One additional very cool feature is the ability to correct measurements for hygroscopic growth! While this likely isn't relevant for research or EPA FEM instrumentation, hygroscopic growth due to water uptake is a big challenge for optical instruments operating in ambient environments without inline driers. While there are several peer-reviewed approaches to correcting for such growth, we follow an approach originally proposed by [Di Antonio et al (2018)](https://www.ncbi.nlm.nih.gov/pmc/articles/PMC6164928/) which corrects the size of the underlying bins prior to computing the step-wise integration.\n",
    "\n",
    "To compute integrated mass values post hygroscopic-growth corection, you must provide a few pieces of additional information:\n",
    "\n",
    "  1. You must provide an estimate for the hygroscopic growth correction factor, kappa. This can be either a constant or a callable function\n",
    "  2. You must provide the column name where relative humidity is stored\n",
    "\n",
    "For example, if we want to compute the corrected PM1 value with a fixed kappa of 0.3:"
   ]
  },
  {
   "cell_type": "code",
   "execution_count": 20,
   "metadata": {},
   "outputs": [
    {
     "data": {
      "text/plain": [
       "timestamp\n",
       "2022-02-15 21:27:30+00:00    0.127272\n",
       "2022-02-15 21:26:30+00:00    0.143090\n",
       "2022-02-15 21:25:30+00:00    0.133221\n",
       "2022-02-15 21:24:30+00:00    0.133941\n",
       "2022-02-15 21:23:30+00:00    0.124912\n",
       "                               ...   \n",
       "2022-02-15 04:43:32+00:00    0.081037\n",
       "2022-02-15 04:42:32+00:00    0.095688\n",
       "2022-02-15 04:41:32+00:00    0.085639\n",
       "2022-02-15 04:40:32+00:00    0.098006\n",
       "2022-02-15 04:39:32+00:00    0.093921\n",
       "Length: 1009, dtype: float64"
      ]
     },
     "execution_count": 20,
     "metadata": {},
     "output_type": "execute_result"
    }
   ],
   "source": [
    "# Compute \n",
    "obj.integrate(weight='mass', dmin=0, dmax=1, kappa=0.3, rh='sample_rh')"
   ]
  },
  {
   "attachments": {},
   "cell_type": "markdown",
   "metadata": {},
   "source": [
    "If we want to define a complex callable function for kappa alongside a callable function for density:"
   ]
  },
  {
   "cell_type": "code",
   "execution_count": 21,
   "metadata": {},
   "outputs": [
    {
     "data": {
      "text/plain": [
       "timestamp\n",
       "2022-02-15 21:27:30+00:00    2.578059\n",
       "2022-02-15 21:26:30+00:00    0.638148\n",
       "2022-02-15 21:25:30+00:00    2.014149\n",
       "2022-02-15 21:24:30+00:00    1.508324\n",
       "2022-02-15 21:23:30+00:00    1.562393\n",
       "                               ...   \n",
       "2022-02-15 04:43:32+00:00    0.811724\n",
       "2022-02-15 04:42:32+00:00    1.471832\n",
       "2022-02-15 04:41:32+00:00    2.768024\n",
       "2022-02-15 04:40:32+00:00    5.742915\n",
       "2022-02-15 04:39:32+00:00    2.510176\n",
       "Length: 1009, dtype: float64"
      ]
     },
     "execution_count": 21,
     "metadata": {},
     "output_type": "execute_result"
    }
   ],
   "source": [
    "def custom_density(dp):\n",
    "    \"\"\"Calculate density as a function of particle diameter in µm.\n",
    "\n",
    "    Parameters\n",
    "    ----------\n",
    "    dp : float\n",
    "        Particle diameter in microns.\n",
    "    \"\"\"\n",
    "    return 1.65 if dp < 3 else 2.5\n",
    "\n",
    "def custom_kappa(dp):\n",
    "    \"\"\"Calculate kappa as a function of particle diameter in µm.\n",
    "\n",
    "    Parameters\n",
    "    ----------\n",
    "    dp : float\n",
    "        Particle diameter in microns.\n",
    "    \"\"\"\n",
    "    return 0.3 if dp < 1 else 0.05\n",
    "\n",
    "# Compute PM10\n",
    "obj.integrate(\n",
    "    weight='mass', dmin=0., dmax=10., \n",
    "    rho=custom_density, kappa=custom_kappa, rh='sample_rh'\n",
    ")"
   ]
  },
  {
   "attachments": {},
   "cell_type": "markdown",
   "metadata": {},
   "source": [
    "That about sums up the basic functionality for the `py-smps` library. For more detailed information, please check out the API documentation and/or the additional guides that cover more specific topics."
   ]
  },
  {
   "attachments": {},
   "cell_type": "markdown",
   "metadata": {},
   "source": []
  }
 ],
 "metadata": {
  "kernelspec": {
   "display_name": "py-smps-EgiEDFFb-py3.10",
   "language": "python",
   "name": "python3"
  },
  "language_info": {
   "codemirror_mode": {
    "name": "ipython",
    "version": 3
   },
   "file_extension": ".py",
   "mimetype": "text/x-python",
   "name": "python",
   "nbconvert_exporter": "python",
   "pygments_lexer": "ipython3",
   "version": "3.10.6"
  },
  "orig_nbformat": 4
 },
 "nbformat": 4,
 "nbformat_minor": 2
}
