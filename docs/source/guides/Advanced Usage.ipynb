{
 "cells": [
  {
   "attachments": {},
   "cell_type": "markdown",
   "metadata": {},
   "source": [
    "# Advanced Usage\n",
    "\n",
    "This section covers advanced topics that many users will not need. If you have questions on how to customize `py-smps` for your usage, please post to the [discussions tab]( https://github.com/quant-aq/py-smps/discussions) on the GitHub repository."
   ]
  },
  {
   "attachments": {},
   "cell_type": "markdown",
   "metadata": {},
   "source": [
    "## Create a custom particle sizer\n",
    "\n",
    "If you have a device that is not represented by one of the several available default classes of `GenericParticleSizer`, it may make sense for you to create a custom object that you can re-use. To do so, you simply need to build off of the `GenericParticleSizer`. \n",
    "\n",
    "Let's assume you have a device that is made up of 6 size bins defined as measuring the following:\n",
    "\n",
    "  * bin0: 0.5 - 1 µm\n",
    "  * bin1: 1 - 2.5 µm\n",
    "  * bin2: 2.5 - 4 µm\n",
    "  * bin3: 4 - 6 µm\n",
    "  * bin4: 6 - 8 µm\n",
    "  * bin5: 8 - 10 µm\n",
    "  \n"
   ]
  },
  {
   "cell_type": "code",
   "execution_count": 19,
   "metadata": {},
   "outputs": [],
   "source": [
    "import smps\n",
    "from smps.utils import make_bins\n",
    "from smps.models import GenericParticleSizer\n",
    "import numpy as np\n",
    "\n",
    "# Create the class\n",
    "\n",
    "class SuperSpecialSensor(GenericParticleSizer):\n",
    "    \"\"\"Create a super custom sensor class that inherits from the \n",
    "    GenericParticleSizer.\n",
    "    \"\"\"\n",
    "    def __init__(self, **kwargs):\n",
    "        # Set the bins\n",
    "        bins = make_bins(boundaries=np.array([0.5, 1., 2.5, 4., 6., 8., 10.]))\n",
    "        \n",
    "        # Set the bin labels\n",
    "        bin_labels = [f\"bin{i}\" for i in range(bins.shape[0])]\n",
    "        \n",
    "        super(SuperSpecialSensor, self).__init__(bins=bins, bin_labels=bin_labels, **kwargs)\n"
   ]
  },
  {
   "attachments": {},
   "cell_type": "markdown",
   "metadata": {},
   "source": [
    "Above is all that is needed! The only thing we needed to customize was the bin boundaries as it can be quite repetitive to need to remember and type them in all of the time. If you wanted to, you could extend the class further and create your own custom methods or overwrite existing ones, but so far, no one has asked to do that!\n",
    "\n",
    "Below, let's go ahead and create a fake dataset and show how to initialize your new class and compute the PM2.5 value:"
   ]
  },
  {
   "cell_type": "code",
   "execution_count": 22,
   "metadata": {},
   "outputs": [
    {
     "data": {
      "text/plain": [
       "0     378.130465\n",
       "1      94.583472\n",
       "2      79.086747\n",
       "3     365.884607\n",
       "4     244.194364\n",
       "         ...    \n",
       "95     77.770204\n",
       "96    303.260986\n",
       "97    280.420340\n",
       "98    198.183872\n",
       "99     61.700384\n",
       "Length: 100, dtype: float64"
      ]
     },
     "execution_count": 22,
     "metadata": {},
     "output_type": "execute_result"
    }
   ],
   "source": [
    "import pandas as pd\n",
    "import random\n",
    "\n",
    "# Let's create a fake data source\n",
    "df = pd.DataFrame({\n",
    "    \"bin0\": [random.uniform(0, 100) for _ in range(100)],\n",
    "    \"bin1\": [random.uniform(0, 80) for _ in range(100)],\n",
    "    \"bin2\": [random.uniform(0, 60) for _ in range(100)],\n",
    "    \"bin3\": [random.uniform(0, 40) for _ in range(100)],\n",
    "    \"bin4\": [random.uniform(0, 20) for _ in range(100)],\n",
    "    \"bin5\": [random.uniform(0, 10) for _ in range(100)],\n",
    "})\n",
    "\n",
    "# Initialize the new object with the fake data\n",
    "obj = SuperSpecialSensor(data=df)\n",
    "\n",
    "# Compute PM2.5\n",
    "obj.integrate(weight='mass', dmin=0, dmax=2.5)"
   ]
  },
  {
   "cell_type": "code",
   "execution_count": null,
   "metadata": {},
   "outputs": [],
   "source": []
  }
 ],
 "metadata": {
  "kernelspec": {
   "display_name": "py-smps-EgiEDFFb-py3.10",
   "language": "python",
   "name": "python3"
  },
  "language_info": {
   "codemirror_mode": {
    "name": "ipython",
    "version": 3
   },
   "file_extension": ".py",
   "mimetype": "text/x-python",
   "name": "python",
   "nbconvert_exporter": "python",
   "pygments_lexer": "ipython3",
   "version": "3.10.6"
  },
  "orig_nbformat": 4
 },
 "nbformat": 4,
 "nbformat_minor": 2
}
