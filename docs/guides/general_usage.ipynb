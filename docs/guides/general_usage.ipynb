{
 "cells": [
  {
   "cell_type": "markdown",
   "metadata": {},
   "source": [
    "# General Usage\n",
    "\n",
    "*py-smps* is a general-purpose library meant for making the analysis of size-resolved aerosol data a bit easier. It is not meant to cover all possible instruments or use cases (at least not yet!). This guide should give you an overview of the capabilities of the software, but will not be completely comprehensive. Please read through the API documentation if you have any questions or post to the discussions on the GitHub repository."
   ]
  },
  {
   "cell_type": "markdown",
   "metadata": {},
   "source": [
    "## Importing Data\n",
    "\n",
    "The data format for each type of sensor/analyzer is going to be different depending on manufacturer's specifications. There are a few helper functions for common sensors (i.e., the SMPS from TSI), and generally, we need the data to meet the following requirements:\n",
    "\n",
    "  * the raw data should be a DataFrame (`pd.DataFrame`). If you're unfamiliar with DataFrame's in python, it may be a good idea to read up on the `pandas` library before moving on\n",
    "  * the index of the DataFrame should be a time series\n",
    "  * there should be a unique column for every particle size bin\n",
    "  \n",
    "So long as the above requirements are met, you should be able to analyze any sensor or instrument!"
   ]
  },
  {
   "cell_type": "code",
   "execution_count": null,
   "metadata": {
    "execution": {
     "iopub.execute_input": "2022-02-19T14:55:28.019142Z",
     "iopub.status.busy": "2022-02-19T14:55:28.017660Z",
     "iopub.status.idle": "2022-02-19T14:55:28.817057Z",
     "shell.execute_reply": "2022-02-19T14:55:28.817526Z"
    }
   },
   "outputs": [],
   "source": [
    "import warnings\n",
    "import pandas as pd\n",
    "import seaborn as sns\n",
    "import matplotlib.pyplot as plt\n",
    "import matplotlib as mpl\n",
    "import smps\n",
    "\n",
    "sns.set(\"notebook\", style=\"ticks\", font_scale=1.25, palette='colorblind')\n",
    "smps.set()\n",
    "\n",
    "warnings.simplefilter(action='ignore', category=FutureWarning)\n",
    "\n",
    "%matplotlib inline\n",
    "\n",
    "print (smps.__version__)"
   ]
  },
  {
   "cell_type": "markdown",
   "metadata": {},
   "source": [
    "To get started, we need data! Here, we use the `smps.io.load_sample` function to import a sample SMPS data set:"
   ]
  },
  {
   "cell_type": "code",
   "execution_count": null,
   "metadata": {
    "execution": {
     "iopub.execute_input": "2022-02-19T14:55:28.821213Z",
     "iopub.status.busy": "2022-02-19T14:55:28.820678Z",
     "iopub.status.idle": "2022-02-19T14:55:31.566921Z",
     "shell.execute_reply": "2022-02-19T14:55:31.567329Z"
    }
   },
   "outputs": [],
   "source": [
    "# Load the 'boston' example\n",
    "bos = smps.io.load_sample(\"boston\")"
   ]
  },
  {
   "cell_type": "markdown",
   "metadata": {},
   "source": [
    "If you are trying to analyze data from an SMPS, there is a file loader function available (`smps.io.load_file`); however, each version of the TSI AIM software is different, making it incredibly difficult to make a general-purpose loader. If this function doesn't work for your version of AIM data outputs, please raise an issue in the GitHub repository and paste your file and we can come up with a solution."
   ]
  },
  {
   "cell_type": "markdown",
   "metadata": {},
   "source": [
    "If your data is simply a csv, you can use native pandas to load your data and ensure it's in the correct format. There are also some sample data files located in the `tests` directory if needed."
   ]
  },
  {
   "cell_type": "code",
   "execution_count": null,
   "metadata": {
    "execution": {
     "iopub.execute_input": "2022-02-19T14:55:31.581502Z",
     "iopub.status.busy": "2022-02-19T14:55:31.580494Z",
     "iopub.status.idle": "2022-02-19T14:55:32.279240Z",
     "shell.execute_reply": "2022-02-19T14:55:32.279593Z"
    }
   },
   "outputs": [],
   "source": [
    "# Load a sample data set from an \n",
    "df = pd.read_csv(\"https://raw.githubusercontent.com/quant-aq/py-smps/master/tests/datafiles/MOD-PM-SAMPLE.csv\")\n",
    "\n",
    "# Conver the timestamp to be a datetime object\n",
    "df[\"timestamp\"] = df[\"timestamp\"].map(pd.to_datetime)\n",
    "\n",
    "# Set the index to be a timestamp\n",
    "df.set_index(\"timestamp\", inplace=True)\n",
    "\n",
    "df.info()"
   ]
  },
  {
   "cell_type": "markdown",
   "metadata": {},
   "source": [
    "In the data above, from a QuantAQ MODULAIR-PM sensor, you will see that there are a number of bins labeled in format \"bin<x>\" - these are the particle concentrations at various size ranges and is the raw data we need. You will notice there are quite a few other columns - this is totally fine! These will all be treated as 'meta' columns by the software.\n",
    "    \n",
    "Now that we have the data in the proper format, we can go ahead and initiate the `GenericParticleSizer` class."
   ]
  },
  {
   "cell_type": "markdown",
   "metadata": {},
   "source": [
    "## The `GenericParticleSizer` Object\n",
    "\n",
    "The heart of the *py-smps* program is the `GenericParticleSizer` object. The `GenericParticleSizer` is the base class for all available particle sizing instruments. It contains all of the basic functionality and methods used for making calculations and/or figures. To initialize the object, you must provide the `data` and `bins` arguments. `data` must be a pandas DataFrame with a datetime index, and `bins` must be a 3xn array including the left boundary, midpoint, and right boundary for each size bin. **NOTE: There is a helper function to make the 3xn array from a list of endpoints (see `smps.utils.make_bins`)**.\n",
    "\n",
    "There are several additional classes that inherit directly from the `GenericParticleSizer` pertaining to individual products. As of February 2022, these include:\n",
    "\n",
    "  * `SMPS`\n",
    "  * `Grimm11D`\n",
    "  * `POPS`\n",
    "  * `ParticlesPlus`\n",
    "  * `AlphasenseOPCN2`\n",
    "  * `AlphasenseOPCN3`\n",
    "  * `Modulair`\n",
    "  * `ModulairPM`\n",
    "\n",
    "We will use the above MODULAIR-PM data we loaded to walk through some of the functionality of the `GenericParticleSizer` class. We will begin by exploring some of the models attributes before moving on to the methods."
   ]
  },
  {
   "cell_type": "markdown",
   "metadata": {},
   "source": [
    "### Attributes\n",
    "\n",
    "First, we will initialize the object:"
   ]
  },
  {
   "cell_type": "code",
   "execution_count": null,
   "metadata": {
    "execution": {
     "iopub.execute_input": "2022-02-19T14:55:32.283646Z",
     "iopub.status.busy": "2022-02-19T14:55:32.283153Z",
     "iopub.status.idle": "2022-02-19T14:55:32.293809Z",
     "shell.execute_reply": "2022-02-19T14:55:32.294264Z"
    }
   },
   "outputs": [],
   "source": [
    "obj = smps.models.ModulairPM(data=df)"
   ]
  },
  {
   "cell_type": "markdown",
   "metadata": {},
   "source": [
    "To start, you can access the bins for the device using the `bins` attribute:"
   ]
  },
  {
   "cell_type": "code",
   "execution_count": null,
   "metadata": {
    "execution": {
     "iopub.execute_input": "2022-02-19T14:55:32.300257Z",
     "iopub.status.busy": "2022-02-19T14:55:32.299618Z",
     "iopub.status.idle": "2022-02-19T14:55:32.303049Z",
     "shell.execute_reply": "2022-02-19T14:55:32.303420Z"
    }
   },
   "outputs": [],
   "source": [
    "obj.bins"
   ]
  },
  {
   "cell_type": "markdown",
   "metadata": {},
   "source": [
    "You can access just the midpoints using the `midpoints` attribute:"
   ]
  },
  {
   "cell_type": "code",
   "execution_count": null,
   "metadata": {
    "execution": {
     "iopub.execute_input": "2022-02-19T14:55:32.307145Z",
     "iopub.status.busy": "2022-02-19T14:55:32.306610Z",
     "iopub.status.idle": "2022-02-19T14:55:32.308612Z",
     "shell.execute_reply": "2022-02-19T14:55:32.309045Z"
    }
   },
   "outputs": [],
   "source": [
    "obj.midpoints"
   ]
  },
  {
   "cell_type": "markdown",
   "metadata": {},
   "source": [
    "To access any meta data/additional columns that do not belong as the raw data, use the `scan_stats` attribute:"
   ]
  },
  {
   "cell_type": "code",
   "execution_count": null,
   "metadata": {
    "execution": {
     "iopub.execute_input": "2022-02-19T14:55:32.312526Z",
     "iopub.status.busy": "2022-02-19T14:55:32.312007Z",
     "iopub.status.idle": "2022-02-19T14:55:32.336619Z",
     "shell.execute_reply": "2022-02-19T14:55:32.337091Z"
    }
   },
   "outputs": [],
   "source": [
    "obj.scan_stats.head()"
   ]
  },
  {
   "cell_type": "markdown",
   "metadata": {},
   "source": [
    "Finally, there are a number of dataframes available that should provide access to all sorts of fun data. These include:\n",
    "\n",
    "  * `dn` - particle number concentration by bin\n",
    "  * `ds` - surface area by bin\n",
    "  * `dv` - volume by bin\n",
    "  * `dndlogdp` - normalized number by bin\n",
    "  * `dsdlogdp` - normalized surface area by bin\n",
    "  * `dvdlogdp` - normalized volume by bin\n",
    "  \n",
    "Here, we show the number concentration by bin as an example:"
   ]
  },
  {
   "cell_type": "code",
   "execution_count": null,
   "metadata": {
    "execution": {
     "iopub.execute_input": "2022-02-19T14:55:32.357282Z",
     "iopub.status.busy": "2022-02-19T14:55:32.356517Z",
     "iopub.status.idle": "2022-02-19T14:55:32.359176Z",
     "shell.execute_reply": "2022-02-19T14:55:32.359555Z"
    }
   },
   "outputs": [],
   "source": [
    "obj.dn.head()"
   ]
  },
  {
   "cell_type": "markdown",
   "metadata": {},
   "source": [
    "### Methods\n",
    "\n",
    "There are several primary methods available under the `GenericParticleSizer`, including:\n",
    "\n",
    "  * `copy` - create a copy of the existing model\n",
    "  * `resample` - resample the data to be on a different time basis\n",
    "  * `slice` - slice the data between specific start and stop times\n",
    "  * `stats` - calculate the total number of particles, surface area, volume, and mass\n",
    "  * `dump` - save a copy of the model to file\n",
    "  * `integrate` - calculate the total number, surface area, volume, or mass of particles between two diameters"
   ]
  },
  {
   "cell_type": "markdown",
   "metadata": {},
   "source": [
    "Above, our data is on a 1-minute time base. What if we want it on a 15min time base? No problem! Use `resample`:"
   ]
  },
  {
   "cell_type": "code",
   "execution_count": null,
   "metadata": {
    "execution": {
     "iopub.execute_input": "2022-02-19T14:55:32.363349Z",
     "iopub.status.busy": "2022-02-19T14:55:32.362731Z",
     "iopub.status.idle": "2022-02-19T14:55:32.386611Z",
     "shell.execute_reply": "2022-02-19T14:55:32.386990Z"
    }
   },
   "outputs": [],
   "source": [
    "obj.resample(\"15min\", inplace=True)\n",
    "\n",
    "# Show the results\n",
    "obj.dn.head()"
   ]
  },
  {
   "cell_type": "markdown",
   "metadata": {},
   "source": [
    "What if we want to count the total number of particles between 0 µm and 1 µm?"
   ]
  },
  {
   "cell_type": "code",
   "execution_count": null,
   "metadata": {
    "execution": {
     "iopub.execute_input": "2022-02-19T14:55:32.397660Z",
     "iopub.status.busy": "2022-02-19T14:55:32.397004Z",
     "iopub.status.idle": "2022-02-19T14:55:32.399092Z",
     "shell.execute_reply": "2022-02-19T14:55:32.399583Z"
    }
   },
   "outputs": [],
   "source": [
    "obj.integrate(weight='number', dmin=0., dmax=1.)"
   ]
  },
  {
   "cell_type": "markdown",
   "metadata": {},
   "source": [
    "What about computing PM2.5?"
   ]
  },
  {
   "cell_type": "code",
   "execution_count": null,
   "metadata": {
    "execution": {
     "iopub.execute_input": "2022-02-19T14:55:32.409962Z",
     "iopub.status.busy": "2022-02-19T14:55:32.407492Z",
     "iopub.status.idle": "2022-02-19T14:55:32.412183Z",
     "shell.execute_reply": "2022-02-19T14:55:32.412567Z"
    }
   },
   "outputs": [],
   "source": [
    "obj.integrate(weight='mass', dmin=0., dmax=2.5, rho=1.65)"
   ]
  },
  {
   "cell_type": "markdown",
   "metadata": {},
   "source": [
    "The `integrate` method can also be incredibly useful if you are trying to calculate the total number of particles between two random diameters - say, you're trying to compare a low-cost optical particle counter with large bins to an SMPS with small bins. No problem! "
   ]
  },
  {
   "cell_type": "code",
   "execution_count": null,
   "metadata": {
    "execution": {
     "iopub.execute_input": "2022-02-19T14:55:32.422598Z",
     "iopub.status.busy": "2022-02-19T14:55:32.421877Z",
     "iopub.status.idle": "2022-02-19T14:55:32.424279Z",
     "shell.execute_reply": "2022-02-19T14:55:32.424658Z"
    }
   },
   "outputs": [],
   "source": [
    "obj.integrate(weight='number', dmin=0.54, dmax=1.05)"
   ]
  },
  {
   "cell_type": "markdown",
   "metadata": {},
   "source": [
    "Next, let's go ahead and compute the statistics! The `stats` method will compute the total number of particles, total surface area, total volume, total mass, arithmetic mean diameter, geometric mean diameter, mode diameter, and geometric standard deviation. **NOTE: This computation can take a little while if your data set is extremely large.**"
   ]
  },
  {
   "cell_type": "code",
   "execution_count": null,
   "metadata": {
    "execution": {
     "iopub.execute_input": "2022-02-19T14:55:32.428601Z",
     "iopub.status.busy": "2022-02-19T14:55:32.427480Z",
     "iopub.status.idle": "2022-02-19T14:55:32.460297Z",
     "shell.execute_reply": "2022-02-19T14:55:32.460736Z"
    }
   },
   "outputs": [],
   "source": [
    "obj.stats(weight='number')"
   ]
  },
  {
   "cell_type": "markdown",
   "metadata": {},
   "source": [
    "You can also weight it differently if you so choose! If you want the volume-weighted geometric mean diameter:"
   ]
  },
  {
   "cell_type": "code",
   "execution_count": null,
   "metadata": {
    "execution": {
     "iopub.execute_input": "2022-02-19T14:55:32.465989Z",
     "iopub.status.busy": "2022-02-19T14:55:32.465455Z",
     "iopub.status.idle": "2022-02-19T14:55:32.498799Z",
     "shell.execute_reply": "2022-02-19T14:55:32.499211Z"
    }
   },
   "outputs": [],
   "source": [
    "obj.stats(weight='volume')"
   ]
  },
  {
   "cell_type": "markdown",
   "metadata": {},
   "source": [
    "Finally, if you want to save your model so that you don't have to re-do your work later, you can use the `dump` method:"
   ]
  },
  {
   "cell_type": "code",
   "execution_count": null,
   "metadata": {
    "execution": {
     "iopub.execute_input": "2022-02-19T14:55:32.502569Z",
     "iopub.status.busy": "2022-02-19T14:55:32.502060Z",
     "iopub.status.idle": "2022-02-19T14:55:32.508233Z",
     "shell.execute_reply": "2022-02-19T14:55:32.508629Z"
    }
   },
   "outputs": [],
   "source": [
    "obj.dump(\"obj-modulair-pm.sav\")"
   ]
  },
  {
   "cell_type": "markdown",
   "metadata": {},
   "source": [
    "## Visualization\n",
    "\n",
    "Making common figures is easy with `py-smps`. There are two primary, out-of-the-box figures that can be made:\n",
    "\n",
    "  * `smps.plots.histplot`\n",
    "  * `smps.plots.heatmap`\n",
    "  \n",
    "These plots are all made using `matplotlib`, so you can easily modify them or create your own."
   ]
  },
  {
   "cell_type": "markdown",
   "metadata": {},
   "source": [
    "### Heatmap\n",
    "\n",
    "The heatmap function makes it easy to visualize how the particle size distribution is changing over time, allowing you to observe growth/nucleation events, etc. To use the `heatmap` function, you must provide three arguments:\n",
    "\n",
    "  * `X`: the time axis\n",
    "  * `Y`: the bin midpoints\n",
    "  * `Z`: the data you wish to plot, typically `obj.dndlogdp`\n",
    "  \n",
    "You may not agree with the default colormap choice (`viridis`), but you can easily change that as you see fit. Please don't use `jet`!"
   ]
  },
  {
   "cell_type": "code",
   "execution_count": null,
   "metadata": {
    "execution": {
     "iopub.execute_input": "2022-02-19T14:55:32.515081Z",
     "iopub.status.busy": "2022-02-19T14:55:32.514503Z",
     "iopub.status.idle": "2022-02-19T14:55:33.473001Z",
     "shell.execute_reply": "2022-02-19T14:55:33.473443Z"
    }
   },
   "outputs": [],
   "source": [
    "X = bos.dndlogdp.index\n",
    "Y = bos.midpoints\n",
    "Z = bos.dndlogdp.T.values\n",
    "\n",
    "ax = smps.plots.heatmap(\n",
    "    X, Y, Z,\n",
    "    cmap='viridis',\n",
    "    fig_kws=dict(figsize=(14, 6))\n",
    ")\n",
    "\n",
    "# Let's make the x-axis look a little nicer\n",
    "import matplotlib.dates as dates\n",
    "\n",
    "ax.xaxis.set_minor_locator(dates.HourLocator(byhour=[0, 6, 12, 18]))\n",
    "ax.xaxis.set_major_formatter(dates.DateFormatter(\"%d\\n%b\\n%Y\"))\n",
    "\n",
    "# Go ahead and change things!\n",
    "ax.set_title(\"Cambridge, MA Wintertime SMPS Data\", y=1.02, fontsize=20);"
   ]
  },
  {
   "cell_type": "markdown",
   "metadata": {},
   "source": [
    "### Particle Size Distribution\n",
    "\n",
    "To visualize the particle size distribution, use the `smps.plots.histplot` function. To plot the histogram, you must provide two pieces of information:\n",
    "\n",
    "  1. `histogram` - your histogram data! it can be provided as an array or as a dataframe in which case it will be averaged over time\n",
    "  2. `bins` - you must provide an array of the bins\n",
    "  \n",
    "There are plenty of ways to customize these plots by providing keyword arguments for the matplotlib bar chart (`plot_kws`) or the figure itself (`fig_kws`). You can also plot onto an existing axis by providing the axis as an argument.\n",
    "\n",
    "Here, we will make a simply plot showing the Boston dataset from the beginning of this tutorial (it's more exciting than a low-cost OPC!):"
   ]
  },
  {
   "cell_type": "code",
   "execution_count": null,
   "metadata": {
    "execution": {
     "iopub.execute_input": "2022-02-19T14:55:33.479222Z",
     "iopub.status.busy": "2022-02-19T14:55:33.478685Z",
     "iopub.status.idle": "2022-02-19T14:55:33.834360Z",
     "shell.execute_reply": "2022-02-19T14:55:33.834797Z"
    }
   },
   "outputs": [],
   "source": [
    "ax = smps.plots.histplot(\n",
    "    bos.dndlogdp, \n",
    "    bos.bins, \n",
    "    plot_kws=dict(linewidth=0.01),\n",
    "    fig_kws=dict(figsize=(12, 6))\n",
    ")\n",
    "\n",
    "# Set the title and y-axis label\n",
    "ax.set_title(\"Cambridge, MA Wintertime Particle Size Distribution\", y=1.05, fontsize=20)\n",
    "ax.set_ylabel(\"$dN/dlogD_p \\; [cm^{-3}]$\")\n",
    "\n",
    "# Remove the right and top spines\n",
    "sns.despine()"
   ]
  },
  {
   "cell_type": "markdown",
   "metadata": {},
   "source": [
    "Next, let's plot the same data, but plot the particle size distribution for each day separately."
   ]
  },
  {
   "cell_type": "code",
   "execution_count": null,
   "metadata": {
    "execution": {
     "iopub.execute_input": "2022-02-19T14:55:33.841985Z",
     "iopub.status.busy": "2022-02-19T14:55:33.841427Z",
     "iopub.status.idle": "2022-02-19T14:55:34.722271Z",
     "shell.execute_reply": "2022-02-19T14:55:34.722814Z"
    }
   },
   "outputs": [],
   "source": [
    "import itertools\n",
    "\n",
    "dates = [\"2016-11-23\", \"2016-11-24\", \"2016-11-25\"]\n",
    "\n",
    "ax = None\n",
    "cp = itertools.cycle(sns.color_palette())\n",
    "\n",
    "for date in dates: \n",
    "    ax = smps.plots.histplot(\n",
    "        bos.dndlogdp[date],\n",
    "        bos.bins,\n",
    "        ax=ax,\n",
    "        plot_kws=dict(alpha=0.6, color=next(cp), linewidth=0.),\n",
    "        fig_kws=dict(figsize=(12, 6))\n",
    "    )\n",
    "    \n",
    "# Add a legend\n",
    "ax.legend(dates, loc='best')\n",
    "\n",
    "# Set the axis label\n",
    "ax.set_ylabel(\"$dN/dlogD_p \\; [cm^{-3}]$\")\n",
    "\n",
    "# Remove the right and top spines\n",
    "sns.despine()"
   ]
  },
  {
   "cell_type": "markdown",
   "metadata": {},
   "source": [
    "That about covers the general overview! Feel free to check out the guide on curve fitting next."
   ]
  },
  {
   "cell_type": "code",
   "execution_count": null,
   "metadata": {},
   "outputs": [],
   "source": []
  }
 ],
 "metadata": {
  "kernelspec": {
   "display_name": "QuantAQ (py39)",
   "language": "python",
   "name": "quantaq-py39"
  },
  "language_info": {
   "codemirror_mode": {
    "name": "ipython",
    "version": 3
   },
   "file_extension": ".py",
   "mimetype": "text/x-python",
   "name": "python",
   "nbconvert_exporter": "python",
   "pygments_lexer": "ipython3",
   "version": "3.9.2"
  }
 },
 "nbformat": 4,
 "nbformat_minor": 4
}
