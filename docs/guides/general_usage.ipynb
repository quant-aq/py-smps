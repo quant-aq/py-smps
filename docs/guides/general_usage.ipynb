{
 "cells": [
  {
   "cell_type": "markdown",
   "metadata": {},
   "source": [
    "# General Usage"
   ]
  },
  {
   "cell_type": "code",
   "execution_count": 1,
   "metadata": {},
   "outputs": [
    {
     "ename": "DistributionNotFound",
     "evalue": "The 'smps' distribution was not found and is required by the application",
     "output_type": "error",
     "traceback": [
      "\u001b[0;31m---------------------------------------------------------------------------\u001b[0m",
      "\u001b[0;31mDistributionNotFound\u001b[0m                      Traceback (most recent call last)",
      "Input \u001b[0;32mIn [1]\u001b[0m, in \u001b[0;36m<module>\u001b[0;34m\u001b[0m\n\u001b[0;32m----> 1\u001b[0m \u001b[38;5;28;01mimport\u001b[39;00m \u001b[38;5;21;01msmps\u001b[39;00m\n\u001b[1;32m      3\u001b[0m smps\u001b[38;5;241m.\u001b[39m__version__\n",
      "File \u001b[0;32m~/.pyenv/versions/qaq/lib/python3.9/site-packages/smps/__init__.py:8\u001b[0m, in \u001b[0;36m<module>\u001b[0;34m\u001b[0m\n\u001b[1;32m      5\u001b[0m \u001b[38;5;28;01mfrom\u001b[39;00m \u001b[38;5;21;01m.\u001b[39;00m\u001b[38;5;21;01mmodels\u001b[39;00m \u001b[38;5;28;01mimport\u001b[39;00m \u001b[38;5;241m*\u001b[39m\n\u001b[1;32m      6\u001b[0m \u001b[38;5;28;01mfrom\u001b[39;00m \u001b[38;5;21;01m.\u001b[39;00m\u001b[38;5;21;01mrcmod\u001b[39;00m \u001b[38;5;28;01mimport\u001b[39;00m \u001b[38;5;241m*\u001b[39m\n\u001b[0;32m----> 8\u001b[0m __version__ \u001b[38;5;241m=\u001b[39m \u001b[43mget_distribution\u001b[49m\u001b[43m(\u001b[49m\u001b[38;5;124;43m\"\u001b[39;49m\u001b[38;5;124;43msmps\u001b[39;49m\u001b[38;5;124;43m\"\u001b[39;49m\u001b[43m)\u001b[49m\u001b[38;5;241m.\u001b[39mversion\n",
      "File \u001b[0;32m~/.pyenv/versions/qaq/lib/python3.9/site-packages/pkg_resources/__init__.py:480\u001b[0m, in \u001b[0;36mget_distribution\u001b[0;34m(dist)\u001b[0m\n\u001b[1;32m    478\u001b[0m     dist \u001b[38;5;241m=\u001b[39m Requirement\u001b[38;5;241m.\u001b[39mparse(dist)\n\u001b[1;32m    479\u001b[0m \u001b[38;5;28;01mif\u001b[39;00m \u001b[38;5;28misinstance\u001b[39m(dist, Requirement):\n\u001b[0;32m--> 480\u001b[0m     dist \u001b[38;5;241m=\u001b[39m \u001b[43mget_provider\u001b[49m\u001b[43m(\u001b[49m\u001b[43mdist\u001b[49m\u001b[43m)\u001b[49m\n\u001b[1;32m    481\u001b[0m \u001b[38;5;28;01mif\u001b[39;00m \u001b[38;5;129;01mnot\u001b[39;00m \u001b[38;5;28misinstance\u001b[39m(dist, Distribution):\n\u001b[1;32m    482\u001b[0m     \u001b[38;5;28;01mraise\u001b[39;00m \u001b[38;5;167;01mTypeError\u001b[39;00m(\u001b[38;5;124m\"\u001b[39m\u001b[38;5;124mExpected string, Requirement, or Distribution\u001b[39m\u001b[38;5;124m\"\u001b[39m, dist)\n",
      "File \u001b[0;32m~/.pyenv/versions/qaq/lib/python3.9/site-packages/pkg_resources/__init__.py:356\u001b[0m, in \u001b[0;36mget_provider\u001b[0;34m(moduleOrReq)\u001b[0m\n\u001b[1;32m    354\u001b[0m \u001b[38;5;124;03m\"\"\"Return an IResourceProvider for the named module or requirement\"\"\"\u001b[39;00m\n\u001b[1;32m    355\u001b[0m \u001b[38;5;28;01mif\u001b[39;00m \u001b[38;5;28misinstance\u001b[39m(moduleOrReq, Requirement):\n\u001b[0;32m--> 356\u001b[0m     \u001b[38;5;28;01mreturn\u001b[39;00m working_set\u001b[38;5;241m.\u001b[39mfind(moduleOrReq) \u001b[38;5;129;01mor\u001b[39;00m \u001b[43mrequire\u001b[49m\u001b[43m(\u001b[49m\u001b[38;5;28;43mstr\u001b[39;49m\u001b[43m(\u001b[49m\u001b[43mmoduleOrReq\u001b[49m\u001b[43m)\u001b[49m\u001b[43m)\u001b[49m[\u001b[38;5;241m0\u001b[39m]\n\u001b[1;32m    357\u001b[0m \u001b[38;5;28;01mtry\u001b[39;00m:\n\u001b[1;32m    358\u001b[0m     module \u001b[38;5;241m=\u001b[39m sys\u001b[38;5;241m.\u001b[39mmodules[moduleOrReq]\n",
      "File \u001b[0;32m~/.pyenv/versions/qaq/lib/python3.9/site-packages/pkg_resources/__init__.py:899\u001b[0m, in \u001b[0;36mWorkingSet.require\u001b[0;34m(self, *requirements)\u001b[0m\n\u001b[1;32m    890\u001b[0m \u001b[38;5;28;01mdef\u001b[39;00m \u001b[38;5;21mrequire\u001b[39m(\u001b[38;5;28mself\u001b[39m, \u001b[38;5;241m*\u001b[39mrequirements):\n\u001b[1;32m    891\u001b[0m     \u001b[38;5;124;03m\"\"\"Ensure that distributions matching `requirements` are activated\u001b[39;00m\n\u001b[1;32m    892\u001b[0m \n\u001b[1;32m    893\u001b[0m \u001b[38;5;124;03m    `requirements` must be a string or a (possibly-nested) sequence\u001b[39;00m\n\u001b[0;32m   (...)\u001b[0m\n\u001b[1;32m    897\u001b[0m \u001b[38;5;124;03m    included, even if they were already activated in this working set.\u001b[39;00m\n\u001b[1;32m    898\u001b[0m \u001b[38;5;124;03m    \"\"\"\u001b[39;00m\n\u001b[0;32m--> 899\u001b[0m     needed \u001b[38;5;241m=\u001b[39m \u001b[38;5;28;43mself\u001b[39;49m\u001b[38;5;241;43m.\u001b[39;49m\u001b[43mresolve\u001b[49m\u001b[43m(\u001b[49m\u001b[43mparse_requirements\u001b[49m\u001b[43m(\u001b[49m\u001b[43mrequirements\u001b[49m\u001b[43m)\u001b[49m\u001b[43m)\u001b[49m\n\u001b[1;32m    901\u001b[0m     \u001b[38;5;28;01mfor\u001b[39;00m dist \u001b[38;5;129;01min\u001b[39;00m needed:\n\u001b[1;32m    902\u001b[0m         \u001b[38;5;28mself\u001b[39m\u001b[38;5;241m.\u001b[39madd(dist)\n",
      "File \u001b[0;32m~/.pyenv/versions/qaq/lib/python3.9/site-packages/pkg_resources/__init__.py:785\u001b[0m, in \u001b[0;36mWorkingSet.resolve\u001b[0;34m(self, requirements, env, installer, replace_conflicting, extras)\u001b[0m\n\u001b[1;32m    783\u001b[0m         \u001b[38;5;28;01mif\u001b[39;00m dist \u001b[38;5;129;01mis\u001b[39;00m \u001b[38;5;28;01mNone\u001b[39;00m:\n\u001b[1;32m    784\u001b[0m             requirers \u001b[38;5;241m=\u001b[39m required_by\u001b[38;5;241m.\u001b[39mget(req, \u001b[38;5;28;01mNone\u001b[39;00m)\n\u001b[0;32m--> 785\u001b[0m             \u001b[38;5;28;01mraise\u001b[39;00m DistributionNotFound(req, requirers)\n\u001b[1;32m    786\u001b[0m     to_activate\u001b[38;5;241m.\u001b[39mappend(dist)\n\u001b[1;32m    787\u001b[0m \u001b[38;5;28;01mif\u001b[39;00m dist \u001b[38;5;129;01mnot\u001b[39;00m \u001b[38;5;129;01min\u001b[39;00m req:\n\u001b[1;32m    788\u001b[0m     \u001b[38;5;66;03m# Oops, the \"best\" so far conflicts with a dependency\u001b[39;00m\n",
      "\u001b[0;31mDistributionNotFound\u001b[0m: The 'smps' distribution was not found and is required by the application"
     ]
    }
   ],
   "source": [
    "import smps\n",
    "\n",
    "smps.__version__"
   ]
  },
  {
   "cell_type": "code",
   "execution_count": 2,
   "metadata": {},
   "outputs": [
    {
     "name": "stdout",
     "output_type": "stream",
     "text": [
      "Collecting git+https://github.com/quant-aq/py-smps@dhhagan-feature-sc-2957\n",
      "  Cloning https://github.com/quant-aq/py-smps (to revision dhhagan-feature-sc-2957) to /private/var/folders/lg/n38_r7w929z9j3xd4rvcn97w0000gn/T/pip-req-build-n8vxergp\n",
      "  Running command git clone --filter=blob:none --quiet https://github.com/quant-aq/py-smps /private/var/folders/lg/n38_r7w929z9j3xd4rvcn97w0000gn/T/pip-req-build-n8vxergp\n",
      "  Running command git checkout -b dhhagan-feature-sc-2957 --track origin/dhhagan-feature-sc-2957\n",
      "  Switched to a new branch 'dhhagan-feature-sc-2957'\n",
      "  Branch 'dhhagan-feature-sc-2957' set up to track remote branch 'dhhagan-feature-sc-2957' from 'origin'.\n",
      "  Resolved https://github.com/quant-aq/py-smps to commit 9bbd17920cedfd72a7c8a9ae23b40d86a21ec7f0\n",
      "  Installing build dependencies ... \u001b[?25ldone\n",
      "\u001b[?25h  Getting requirements to build wheel ... \u001b[?25ldone\n",
      "\u001b[?25h  Preparing metadata (pyproject.toml) ... \u001b[?25ldone\n",
      "\u001b[?25hRequirement already satisfied: pandas<2.0.0,>=1.2.4 in /Users/davidhagan/.pyenv/versions/3.9.2/envs/qaq/lib/python3.9/site-packages (from py-smps==2.0.0a1) (1.4.1)\n",
      "Requirement already satisfied: joblib<0.17.0,>=0.16.0 in /Users/davidhagan/.pyenv/versions/3.9.2/envs/qaq/lib/python3.9/site-packages (from py-smps==2.0.0a1) (0.16.0)\n",
      "Requirement already satisfied: seaborn<0.11.0,>=0.10.1 in /Users/davidhagan/.pyenv/versions/3.9.2/envs/qaq/lib/python3.9/site-packages (from py-smps==2.0.0a1) (0.10.1)\n",
      "Requirement already satisfied: requests<3.0.0,>=2.24.0 in /Users/davidhagan/.pyenv/versions/3.9.2/envs/qaq/lib/python3.9/site-packages (from py-smps==2.0.0a1) (2.25.1)\n",
      "Requirement already satisfied: scipy<2.0.0,>=1.5.2 in /Users/davidhagan/.pyenv/versions/3.9.2/envs/qaq/lib/python3.9/site-packages (from py-smps==2.0.0a1) (1.6.2)\n",
      "Requirement already satisfied: statsmodels<0.13.0,>=0.12.0 in /Users/davidhagan/.pyenv/versions/3.9.2/envs/qaq/lib/python3.9/site-packages (from py-smps==2.0.0a1) (0.12.2)\n",
      "Requirement already satisfied: numpy<2.0.0,>=1.19.1 in /Users/davidhagan/.pyenv/versions/3.9.2/envs/qaq/lib/python3.9/site-packages (from py-smps==2.0.0a1) (1.20.2)\n",
      "Requirement already satisfied: python-dateutil>=2.8.1 in /Users/davidhagan/.pyenv/versions/3.9.2/envs/qaq/lib/python3.9/site-packages (from pandas<2.0.0,>=1.2.4->py-smps==2.0.0a1) (2.8.1)\n",
      "Requirement already satisfied: pytz>=2020.1 in /Users/davidhagan/.pyenv/versions/3.9.2/envs/qaq/lib/python3.9/site-packages (from pandas<2.0.0,>=1.2.4->py-smps==2.0.0a1) (2021.1)\n",
      "Requirement already satisfied: certifi>=2017.4.17 in /Users/davidhagan/.pyenv/versions/3.9.2/envs/qaq/lib/python3.9/site-packages (from requests<3.0.0,>=2.24.0->py-smps==2.0.0a1) (2020.12.5)\n",
      "Requirement already satisfied: chardet<5,>=3.0.2 in /Users/davidhagan/.pyenv/versions/3.9.2/envs/qaq/lib/python3.9/site-packages (from requests<3.0.0,>=2.24.0->py-smps==2.0.0a1) (4.0.0)\n",
      "Requirement already satisfied: idna<3,>=2.5 in /Users/davidhagan/.pyenv/versions/3.9.2/envs/qaq/lib/python3.9/site-packages (from requests<3.0.0,>=2.24.0->py-smps==2.0.0a1) (2.10)\n",
      "Requirement already satisfied: urllib3<1.27,>=1.21.1 in /Users/davidhagan/.pyenv/versions/3.9.2/envs/qaq/lib/python3.9/site-packages (from requests<3.0.0,>=2.24.0->py-smps==2.0.0a1) (1.26.4)\n",
      "Requirement already satisfied: matplotlib>=2.1.2 in /Users/davidhagan/.pyenv/versions/3.9.2/envs/qaq/lib/python3.9/site-packages (from seaborn<0.11.0,>=0.10.1->py-smps==2.0.0a1) (3.4.0)\n",
      "Requirement already satisfied: patsy>=0.5 in /Users/davidhagan/.pyenv/versions/3.9.2/envs/qaq/lib/python3.9/site-packages (from statsmodels<0.13.0,>=0.12.0->py-smps==2.0.0a1) (0.5.1)\n",
      "Requirement already satisfied: pyparsing>=2.2.1 in /Users/davidhagan/.pyenv/versions/3.9.2/envs/qaq/lib/python3.9/site-packages (from matplotlib>=2.1.2->seaborn<0.11.0,>=0.10.1->py-smps==2.0.0a1) (2.4.7)\n",
      "Requirement already satisfied: kiwisolver>=1.0.1 in /Users/davidhagan/.pyenv/versions/3.9.2/envs/qaq/lib/python3.9/site-packages (from matplotlib>=2.1.2->seaborn<0.11.0,>=0.10.1->py-smps==2.0.0a1) (1.3.1)\n",
      "Requirement already satisfied: pillow>=6.2.0 in /Users/davidhagan/.pyenv/versions/3.9.2/envs/qaq/lib/python3.9/site-packages (from matplotlib>=2.1.2->seaborn<0.11.0,>=0.10.1->py-smps==2.0.0a1) (8.1.2)\n",
      "Requirement already satisfied: cycler>=0.10 in /Users/davidhagan/.pyenv/versions/3.9.2/envs/qaq/lib/python3.9/site-packages (from matplotlib>=2.1.2->seaborn<0.11.0,>=0.10.1->py-smps==2.0.0a1) (0.10.0)\n",
      "Requirement already satisfied: six in /Users/davidhagan/.pyenv/versions/3.9.2/envs/qaq/lib/python3.9/site-packages (from patsy>=0.5->statsmodels<0.13.0,>=0.12.0->py-smps==2.0.0a1) (1.15.0)\n",
      "Note: you may need to restart the kernel to use updated packages.\n"
     ]
    }
   ],
   "source": [
    "%pip install -U git+https://github.com/quant-aq/py-smps@dhhagan-feature-sc-2957"
   ]
  },
  {
   "cell_type": "code",
   "execution_count": null,
   "metadata": {},
   "outputs": [],
   "source": []
  }
 ],
 "metadata": {
  "kernelspec": {
   "display_name": "QuantAQ (py39)",
   "language": "python",
   "name": "quantaq-py39"
  },
  "language_info": {
   "codemirror_mode": {
    "name": "ipython",
    "version": 3
   },
   "file_extension": ".py",
   "mimetype": "text/x-python",
   "name": "python",
   "nbconvert_exporter": "python",
   "pygments_lexer": "ipython3",
   "version": "3.9.2"
  }
 },
 "nbformat": 4,
 "nbformat_minor": 4
}
