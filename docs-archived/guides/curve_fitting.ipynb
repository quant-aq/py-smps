{
 "cells": [
  {
   "cell_type": "markdown",
   "metadata": {},
   "source": [
    "# Curve Fitting\n",
    "\n",
    "There are many reasons one may want to fit their SMPS/OPS/OPC data. Here, we briefly show how one can use `py-smps` to do so. Currently, there is support for fitting between 1 and 3 modes."
   ]
  },
  {
   "cell_type": "code",
   "execution_count": null,
   "metadata": {
    "execution": {
     "iopub.execute_input": "2022-02-19T14:55:13.811116Z",
     "iopub.status.busy": "2022-02-19T14:55:13.809553Z",
     "iopub.status.idle": "2022-02-19T14:55:15.152185Z",
     "shell.execute_reply": "2022-02-19T14:55:15.152644Z"
    }
   },
   "outputs": [],
   "source": [
    "import smps\n",
    "import seaborn as sns\n",
    "import numpy as np\n",
    "import matplotlib.pyplot as plt\n",
    "import matplotlib.ticker as mtick\n",
    "import random\n",
    "import warnings\n",
    "\n",
    "warnings.simplefilter(action='ignore', category=FutureWarning)\n",
    "\n",
    "sns.set(\"notebook\", style='ticks', font_scale=1.25, palette='colorblind')\n",
    "smps.set()\n",
    "\n",
    "%matplotlib inline"
   ]
  },
  {
   "cell_type": "markdown",
   "metadata": {},
   "source": [
    "## Fit a Single-Mode Particle Size Distribution\n",
    "\n",
    "Here, we will use the provided `boston` SMPS dataset as an example. Let's begin by loading the data and plotting the particle size distribution:"
   ]
  },
  {
   "cell_type": "code",
   "execution_count": null,
   "metadata": {
    "execution": {
     "iopub.execute_input": "2022-02-19T14:55:15.157227Z",
     "iopub.status.busy": "2022-02-19T14:55:15.156680Z",
     "iopub.status.idle": "2022-02-19T14:55:19.475857Z",
     "shell.execute_reply": "2022-02-19T14:55:19.475454Z"
    }
   },
   "outputs": [],
   "source": [
    "obj = smps.io.load_sample(\"boston\")\n",
    "\n",
    "# Plot the histogram\n",
    "ax = smps.plots.histplot(\n",
    "    obj.dndlogdp,\n",
    "    obj.bins,\n",
    "    plot_kws=dict(linewidth=.1),\n",
    "    fig_kws=dict(figsize=(12, 6))\n",
    ")\n",
    "\n",
    "ax.set_title(\"Wintertime in Cambridge, MA\", y=1.02)\n",
    "ax.set_ylabel(\"$dN/dlogD_p \\; [cm^{-3}]$\")\n",
    "\n",
    "# remove the spines of the plot\n",
    "sns.despine()"
   ]
  },
  {
   "cell_type": "markdown",
   "metadata": {},
   "source": [
    "Above, we plotted the particle size distribution and can see that during this time, there was a single dominant mode with a mode particle diameter of around 50-60 nm. We can then go ahead and fit a simple 1-mode distribution to our data."
   ]
  },
  {
   "cell_type": "code",
   "execution_count": null,
   "metadata": {
    "execution": {
     "iopub.execute_input": "2022-02-19T14:55:19.479810Z",
     "iopub.status.busy": "2022-02-19T14:55:19.479219Z",
     "iopub.status.idle": "2022-02-19T14:55:19.505272Z",
     "shell.execute_reply": "2022-02-19T14:55:19.505704Z"
    }
   },
   "outputs": [],
   "source": [
    "from smps.fit import LogNormal\n",
    "\n",
    "# Initiate the class\n",
    "model = LogNormal()\n",
    "\n",
    "# Gather our X and Y values\n",
    "X = obj.midpoints\n",
    "Y = obj.dndlogdp.mean()\n",
    "\n",
    "# Fit the data\n",
    "results = model.fit(X, Y, modes=1)\n",
    "\n",
    "# Print out the results\n",
    "results.summary()"
   ]
  },
  {
   "cell_type": "markdown",
   "metadata": {},
   "source": [
    "Above, we see the results printed out as a table with the three fit parameters:\n",
    "\n",
    "  * the number concentration in particles per cubic centimeter\n",
    "  * the geometric mean diameter\n",
    "  * the geometric standard deviation\n",
    "  \n",
    "All three parameters have error estimates as well (standard deviation) as shown in parens. Now that we've successfully fit our data, let's go ahead and plot it to make sure it's correct!"
   ]
  },
  {
   "cell_type": "code",
   "execution_count": null,
   "metadata": {
    "execution": {
     "iopub.execute_input": "2022-02-19T14:55:19.508231Z",
     "iopub.status.busy": "2022-02-19T14:55:19.507655Z",
     "iopub.status.idle": "2022-02-19T14:55:19.871875Z",
     "shell.execute_reply": "2022-02-19T14:55:19.872315Z"
    }
   },
   "outputs": [],
   "source": [
    "ax = smps.plots.histplot(\n",
    "    obj.dndlogdp,\n",
    "    obj.bins,\n",
    "    plot_kws=dict(linewidth=0, alpha=.6, edgecolor=None),\n",
    "    fig_kws=dict(figsize=(12, 6))\n",
    ")\n",
    "\n",
    "# Plot the fit values\n",
    "ax.plot(obj.midpoints, results.fittedvalues, lw=6, label=\"Fit Data\")\n",
    "\n",
    "ax.set_ylabel(\"$dN/dlogD_p \\; [cm^{-3}]$\")\n",
    "ax.set_title(\"Wintertime in Cambridge, MA with Fit Data\")\n",
    "\n",
    "# remove the spines of the plot\n",
    "sns.despine()"
   ]
  },
  {
   "cell_type": "markdown",
   "metadata": {},
   "source": [
    "So, what else is stored alongside the `fittedvalues` in the fit results? Glad you asked! For beginners, you can go ahead and pull the fit parameters using `results['params']`. They are stored in format [`N`, `GM`, `GSD`]."
   ]
  },
  {
   "cell_type": "code",
   "execution_count": null,
   "metadata": {
    "execution": {
     "iopub.execute_input": "2022-02-19T14:55:19.876511Z",
     "iopub.status.busy": "2022-02-19T14:55:19.875983Z",
     "iopub.status.idle": "2022-02-19T14:55:19.878217Z",
     "shell.execute_reply": "2022-02-19T14:55:19.878586Z"
    }
   },
   "outputs": [],
   "source": [
    "results.params"
   ]
  },
  {
   "cell_type": "markdown",
   "metadata": {},
   "source": [
    "You can also go ahead and pull the error associated with those values:"
   ]
  },
  {
   "cell_type": "code",
   "execution_count": null,
   "metadata": {
    "execution": {
     "iopub.execute_input": "2022-02-19T14:55:19.882052Z",
     "iopub.status.busy": "2022-02-19T14:55:19.881432Z",
     "iopub.status.idle": "2022-02-19T14:55:19.883595Z",
     "shell.execute_reply": "2022-02-19T14:55:19.883973Z"
    }
   },
   "outputs": [],
   "source": [
    "results.errors"
   ]
  },
  {
   "cell_type": "markdown",
   "metadata": {},
   "source": [
    "Upon fitting, an instance of the `LogNormalFitResults` class is returned and has available a couple of useful methods. The first is the `.summary()` method we showed above. There is also a `.predict()` method so that you can predict values given a fit. It takes two arguments:\n",
    "\n",
    "  * `X` - an array of values (particle diameters)\n",
    "  * `weight` - one of [`number`, `surface`, or `volume`]"
   ]
  },
  {
   "cell_type": "code",
   "execution_count": null,
   "metadata": {
    "execution": {
     "iopub.execute_input": "2022-02-19T14:55:19.887249Z",
     "iopub.status.busy": "2022-02-19T14:55:19.886671Z",
     "iopub.status.idle": "2022-02-19T14:55:19.888832Z",
     "shell.execute_reply": "2022-02-19T14:55:19.889275Z"
    }
   },
   "outputs": [],
   "source": [
    "results.predict(1.)"
   ]
  },
  {
   "cell_type": "markdown",
   "metadata": {},
   "source": [
    "### Plot Missing Data\n",
    "\n",
    "Let's use the `predict` method to fill in the lower portion of the curve we the SMPS was not scanning. Is this a great idea? Probably not, but we can still do it anyways!"
   ]
  },
  {
   "cell_type": "code",
   "execution_count": null,
   "metadata": {
    "execution": {
     "iopub.execute_input": "2022-02-19T14:55:19.894868Z",
     "iopub.status.busy": "2022-02-19T14:55:19.894317Z",
     "iopub.status.idle": "2022-02-19T14:55:20.270329Z",
     "shell.execute_reply": "2022-02-19T14:55:20.270741Z"
    }
   },
   "outputs": [],
   "source": [
    "newX = np.logspace(np.log10(.01), np.log10(1), 1000)\n",
    "\n",
    "# plot the histogram\n",
    "ax = smps.plots.histplot(obj.dndlogdp, obj.bins, plot_kws={'linewidth': 0., 'alpha': .5},\n",
    "                        fig_kws={'figsize': (12, 6)})\n",
    "\n",
    "# Plot the fit values\n",
    "ax.plot(newX, results.predict(newX), lw=6, label=\"Fit Data\")\n",
    "\n",
    "ax.set_title(\"Wintertime in Cambridge, MA with Fit Data\")\n",
    "ax.set_ylabel(\"$dN/dlogD_p \\; [cm^{-3}]$\")\n",
    "\n",
    "# remove the spines of the plot\n",
    "sns.despine()"
   ]
  },
  {
   "cell_type": "markdown",
   "metadata": {},
   "source": [
    "## Fit a Multi-Mode Particle Size Distribution\n",
    "\n",
    "While the existing sample data doesn't have a strong multi-mode period, we can mock the data to show the utility of `py-smps`. **NOTE: If you are in posession of such a data set and feel like donating its use for this project, please reach out!**.\n",
    "\n",
    "First, let's build a noisy dataset "
   ]
  },
  {
   "cell_type": "code",
   "execution_count": null,
   "metadata": {
    "execution": {
     "iopub.execute_input": "2022-02-19T14:55:20.358636Z",
     "iopub.status.busy": "2022-02-19T14:55:20.286362Z",
     "iopub.status.idle": "2022-02-19T14:55:20.624606Z",
     "shell.execute_reply": "2022-02-19T14:55:20.624987Z"
    }
   },
   "outputs": [],
   "source": [
    "dp = np.logspace(np.log10(1e-4), np.log10(1), 500)\n",
    "\n",
    "# Sample data pulled from S+P pg371\n",
    "N = np.array([9.93e4, 3.64e4])\n",
    "GM = np.array([1.3e-3, 20e-3])\n",
    "GSD = np.array([10**.245, 10**0.336])\n",
    "\n",
    "total = 0\n",
    "\n",
    "for j in range(len(N)):\n",
    "    total += smps.fit.dndlogdp(dp, N[j], GM[j], GSD[j])\n",
    "    \n",
    "# Let's confuzzle our data\n",
    "twisted = total* [random.uniform(0.9, 1.1) for i in range(len(dp))]\n",
    "\n",
    "with sns.axes_style('ticks'):\n",
    "    fig, ax = plt.subplots(1, figsize=(12, 6))\n",
    "\n",
    "    ax.plot(dp, twisted, 'o', label=\"Twisted Data\")\n",
    "\n",
    "    ax.set_xlabel(\"$D_p \\; [\\mu m]$\")\n",
    "    ax.set_ylabel(\"$dN/dlogD_p$\")\n",
    "    ax.semilogx()\n",
    "    \n",
    "    ax.xaxis.set_major_formatter(mtick.FormatStrFormatter(\"%.4g\"))\n",
    "    ax.legend()\n",
    "\n",
    "sns.despine()\n",
    "plt.show()"
   ]
  },
  {
   "cell_type": "markdown",
   "metadata": {},
   "source": [
    "Now that we have some mocked data, let's go ahead and fit it! We're also going to need to go ahead and throw some initial guesses in - there need to be 3xn guesses where n is the number of modes you are fitting. They should be in format [$N_i$, $GM_i$, $GSD_i$] for i=1 to i=n."
   ]
  },
  {
   "cell_type": "code",
   "execution_count": null,
   "metadata": {
    "execution": {
     "iopub.execute_input": "2022-02-19T14:55:20.629938Z",
     "iopub.status.busy": "2022-02-19T14:55:20.629146Z",
     "iopub.status.idle": "2022-02-19T14:55:20.636583Z",
     "shell.execute_reply": "2022-02-19T14:55:20.636965Z"
    }
   },
   "outputs": [],
   "source": [
    "model = smps.fit.LogNormal()\n",
    "\n",
    "X = dp\n",
    "Y = twisted\n",
    "\n",
    "# Let's state some initial guesses\n",
    "p0 = [1e5, 1e-3, 2, 3e4, 20e-3, 2]\n",
    "\n",
    "results = model.fit(X, Y, modes=2, p0=p0)\n",
    "\n",
    "results.summary()"
   ]
  },
  {
   "cell_type": "markdown",
   "metadata": {},
   "source": [
    "Now that we have the results, let's go ahead and plot them!"
   ]
  },
  {
   "cell_type": "code",
   "execution_count": null,
   "metadata": {
    "execution": {
     "iopub.execute_input": "2022-02-19T14:55:20.659474Z",
     "iopub.status.busy": "2022-02-19T14:55:20.642407Z",
     "iopub.status.idle": "2022-02-19T14:55:20.957105Z",
     "shell.execute_reply": "2022-02-19T14:55:20.957531Z"
    }
   },
   "outputs": [],
   "source": [
    "with sns.axes_style('ticks'):\n",
    "    fig, ax = plt.subplots(1, figsize=(12, 6))\n",
    "\n",
    "    ax.plot(dp, twisted, 'o', label=\"Twisted Data\")\n",
    "    ax.plot(dp, results.fittedvalues, lw=6, label=\"Fitted Values\")\n",
    "\n",
    "    ax.set_xlabel(\"$D_p \\; [\\mu m]$\")\n",
    "    ax.set_ylabel(\"$dN/dlogD_p$\")\n",
    "    ax.semilogx()\n",
    "    \n",
    "    ax.xaxis.set_major_formatter(mtick.FormatStrFormatter(\"%.4g\"))\n",
    "    ax.legend()\n",
    "\n",
    "sns.despine()\n",
    "plt.show()"
   ]
  },
  {
   "cell_type": "markdown",
   "metadata": {},
   "source": [
    "Nice! Now, what if we have a dataset like above, but we only want to fit a portion of it? No worries, just fit 1 mode under specified diameters:"
   ]
  },
  {
   "cell_type": "code",
   "execution_count": null,
   "metadata": {
    "execution": {
     "iopub.execute_input": "2022-02-19T14:55:20.964785Z",
     "iopub.status.busy": "2022-02-19T14:55:20.964030Z",
     "iopub.status.idle": "2022-02-19T14:55:21.274906Z",
     "shell.execute_reply": "2022-02-19T14:55:21.275226Z"
    }
   },
   "outputs": [],
   "source": [
    "model = smps.fit.LogNormal()\n",
    "\n",
    "X = dp\n",
    "Y = twisted\n",
    "\n",
    "results = model.fit(X, Y, modes=1, xmax=8.5, xmin=0)\n",
    "\n",
    "print (results.summary())\n",
    "\n",
    "\n",
    "with sns.axes_style('ticks'):\n",
    "    fig, ax = plt.subplots(1, figsize=(12, 6))\n",
    "\n",
    "    ax.plot(dp, twisted, 'o', label=\"Twisted Data\")\n",
    "    ax.plot(X[X <= 8.5], results.fittedvalues, lw=6, label=\"Fitted Values\")\n",
    "\n",
    "    ax.set_xlabel(\"$D_p \\; [\\mu m]$\")\n",
    "    ax.set_ylabel(\"$dN/dlogD_p$\")\n",
    "    ax.semilogx()\n",
    "    \n",
    "    ax.xaxis.set_major_formatter(mtick.FormatStrFormatter(\"%.4g\"))\n",
    "    ax.legend()\n",
    "\n",
    "sns.despine()\n",
    "plt.show()"
   ]
  },
  {
   "cell_type": "code",
   "execution_count": null,
   "metadata": {},
   "outputs": [],
   "source": []
  }
 ],
 "metadata": {
  "kernelspec": {
   "display_name": "QuantAQ",
   "language": "python",
   "name": "qaq"
  },
  "language_info": {
   "codemirror_mode": {
    "name": "ipython",
    "version": 3
   },
   "file_extension": ".py",
   "mimetype": "text/x-python",
   "name": "python",
   "nbconvert_exporter": "python",
   "pygments_lexer": "ipython3",
   "version": "3.9.2"
  }
 },
 "nbformat": 4,
 "nbformat_minor": 4
}
